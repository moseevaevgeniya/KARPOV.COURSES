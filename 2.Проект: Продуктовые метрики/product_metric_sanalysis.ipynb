{
 "cells": [
  {
   "cell_type": "markdown",
   "id": "6ebf598e",
   "metadata": {
    "toc": true
   },
   "source": [
    "<h1>Table of Contents<span class=\"tocSkip\"></span></h1>\n",
    "<div class=\"toc\"><ul class=\"toc-item\"><li><span><a href=\"#Анализ-и-визуализация--продуктовых-метрик-в-Redash\" data-toc-modified-id=\"Анализ-и-визуализация--продуктовых-метрик-в-Redash-1\"><span class=\"toc-item-num\">1&nbsp;&nbsp;</span>Анализ и визуализация  продуктовых метрик в Redash</a></span><ul class=\"toc-item\"><li><span><a href=\"#Retention-пользователей-Ленты-новостей-VK-по-каналам-привлечения\" data-toc-modified-id=\"Retention-пользователей-Ленты-новостей-VK-по-каналам-привлечения-1.1\"><span class=\"toc-item-num\">1.1&nbsp;&nbsp;</span>Retention пользователей Ленты новостей VK по каналам привлечения</a></span></li></ul></li><li><span><a href=\"#Лента-новостей-всплеск-активной-аудитории-в-Superset\" data-toc-modified-id=\"Лента-новостей-всплеск-активной-аудитории-в-Superset-2\"><span class=\"toc-item-num\">2&nbsp;&nbsp;</span>Лента новостей-всплеск активной аудитории в Superset</a></span><ul class=\"toc-item\"><li><span><a href=\"#Аудиторные-данные\" data-toc-modified-id=\"Аудиторные-данные-2.1\"><span class=\"toc-item-num\">2.1&nbsp;&nbsp;</span>Аудиторные данные</a></span><ul class=\"toc-item\"><li><span><a href=\"#DAU\" data-toc-modified-id=\"DAU-2.1.1\"><span class=\"toc-item-num\">2.1.1&nbsp;&nbsp;</span>DAU</a></span></li><li><span><a href=\"#DAU-по-каналам-привлечения\" data-toc-modified-id=\"DAU-по-каналам-привлечения-2.1.2\"><span class=\"toc-item-num\">2.1.2&nbsp;&nbsp;</span>DAU по каналам привлечения</a></span></li></ul></li><li><span><a href=\"#События\" data-toc-modified-id=\"События-2.2\"><span class=\"toc-item-num\">2.2&nbsp;&nbsp;</span>События</a></span><ul class=\"toc-item\"><li><span><a href=\"#Retention-(15-ноября)\" data-toc-modified-id=\"Retention-(15-ноября)-2.2.1\"><span class=\"toc-item-num\">2.2.1&nbsp;&nbsp;</span>Retention (15 ноября)</a></span></li><li><span><a href=\"#Retention-ads-15-ноября-2022-года\" data-toc-modified-id=\"Retention-ads-15-ноября-2022-года-2.2.2\"><span class=\"toc-item-num\">2.2.2&nbsp;&nbsp;</span>Retention ads 15 ноября 2022 года</a></span></li></ul></li></ul></li><li><span><a href=\"#Лента-новостей-падение-активной-аудитории-в-Superset\" data-toc-modified-id=\"Лента-новостей-падение-активной-аудитории-в-Superset-3\"><span class=\"toc-item-num\">3&nbsp;&nbsp;</span>Лента новостей-падение активной аудитории в Superset</a></span><ul class=\"toc-item\"><li><span><a href=\"#DAU\" data-toc-modified-id=\"DAU-3.1\"><span class=\"toc-item-num\">3.1&nbsp;&nbsp;</span>DAU</a></span></li><li><span><a href=\"#DAU-по-каналам-привлечения\" data-toc-modified-id=\"DAU-по-каналам-привлечения-3.2\"><span class=\"toc-item-num\">3.2&nbsp;&nbsp;</span>DAU по каналам привлечения</a></span></li><li><span><a href=\"#DAU-в-разрезе-OS\" data-toc-modified-id=\"DAU-в-разрезе-OS-3.3\"><span class=\"toc-item-num\">3.3&nbsp;&nbsp;</span>DAU в разрезе OS</a></span></li><li><span><a href=\"#DAU-по-странам\" data-toc-modified-id=\"DAU-по-странам-3.4\"><span class=\"toc-item-num\">3.4&nbsp;&nbsp;</span>DAU по странам</a></span></li><li><span><a href=\"#DAU-по-странам-без-России\" data-toc-modified-id=\"DAU-по-странам-без-России-3.5\"><span class=\"toc-item-num\">3.5&nbsp;&nbsp;</span>DAU по странам без России</a></span></li><li><span><a href=\"#DAU-в-разрезе-городов-России\" data-toc-modified-id=\"DAU-в-разрезе-городов-России-3.6\"><span class=\"toc-item-num\">3.6&nbsp;&nbsp;</span>DAU в разрезе городов России</a></span></li></ul></li><li><span><a href=\"#Лента-новостей--активная-аудитория-с-точки-зрения-новых,-старых-и-ушедших-пользователей-в-Superset\" data-toc-modified-id=\"Лента-новостей--активная-аудитория-с-точки-зрения-новых,-старых-и-ушедших-пользователей-в-Superset-4\"><span class=\"toc-item-num\">4&nbsp;&nbsp;</span>Лента новостей -активная аудитория с точки зрения новых, старых и ушедших пользователей в Superset</a></span><ul class=\"toc-item\"><li><span><a href=\"#Аудитория-по-неделям\" data-toc-modified-id=\"Аудитория-по-неделям-4.1\"><span class=\"toc-item-num\">4.1&nbsp;&nbsp;</span>Аудитория по неделям</a></span></li></ul></li></ul></div>"
   ]
  },
  {
   "cell_type": "markdown",
   "id": "8b076160",
   "metadata": {},
   "source": [
    "# Визуализация продуктовых метрик в Superset, Redash"
   ]
  },
  {
   "cell_type": "markdown",
   "id": "b9e2890e",
   "metadata": {},
   "source": [
    "## Анализ и визуализация  продуктовых метрик в Redash"
   ]
  },
  {
   "cell_type": "markdown",
   "id": "4c9adfb2",
   "metadata": {},
   "source": [
    "### Retention пользователей Ленты новостей VK по каналам привлечения"
   ]
  },
  {
   "cell_type": "code",
   "execution_count": null,
   "id": "74f91147",
   "metadata": {},
   "outputs": [],
   "source": [
    "SELECT date, count(user_id) AS users, source\n",
    "FROM\n",
    "  (SELECT DISTINCT user_id, source,\n",
    "                   toDate(time) AS date\n",
    "   FROM simulator_20221120.feed_actions\n",
    "   WHERE user_id in\n",
    "       (SELECT DISTINCT user_id\n",
    "        FROM\n",
    "          (SELECT user_id,\n",
    "                  min(toDate(time)) AS start_day\n",
    "           FROM simulator.feed_actions\n",
    "           GROUP BY user_id\n",
    "           HAVING start_day = '2021-12-10')) )\n",
    "GROUP BY date, source"
   ]
  },
  {
   "cell_type": "markdown",
   "id": "d14f298f",
   "metadata": {},
   "source": [
    "## Лента новостей-всплеск активной аудитории в Superset"
   ]
  },
  {
   "cell_type": "markdown",
   "id": "46c99bce",
   "metadata": {},
   "source": [
    "### Аудиторные данные\n"
   ]
  },
  {
   "cell_type": "markdown",
   "id": "4fb5615e",
   "metadata": {},
   "source": [
    "#### DAU"
   ]
  },
  {
   "cell_type": "code",
   "execution_count": null,
   "id": "948ae02f",
   "metadata": {},
   "outputs": [],
   "source": [
    "SELECT toStartOfDay(toDateTime(time)) AS __timestamp,\n",
    "       count(DISTINCT user_id) AS \"Уникальные пользователи\"\n",
    "FROM simulator_20221120.feed_actions\n",
    "GROUP BY toStartOfDay(toDateTime(time))\n",
    "ORDER BY \"Уникальные пользователи\" DESC\n",
    "LIMIT 50000;"
   ]
  },
  {
   "cell_type": "markdown",
   "id": "19df8772",
   "metadata": {},
   "source": [
    "#### DAU по каналам привлечения"
   ]
  },
  {
   "cell_type": "code",
   "execution_count": null,
   "id": "ba6535ab",
   "metadata": {},
   "outputs": [],
   "source": [
    "SELECT toStartOfDay(toDateTime(time)) AS __timestamp,\n",
    "       source AS source,\n",
    "                 count(DISTINCT user_id) AS \"Уникальные пользователи\"\n",
    "FROM simulator_20221120.feed_actions\n",
    "GROUP BY source,\n",
    "         toStartOfDay(toDateTime(time))\n",
    "ORDER BY \"Уникальные пользователи\" DESC\n",
    "LIMIT 50000;"
   ]
  },
  {
   "cell_type": "markdown",
   "id": "f293e10e",
   "metadata": {},
   "source": [
    "### События\n"
   ]
  },
  {
   "cell_type": "markdown",
   "id": "f3af61e2",
   "metadata": {},
   "source": [
    "#### Retention (15 ноября)"
   ]
  },
  {
   "cell_type": "code",
   "execution_count": null,
   "id": "d3fad25b",
   "metadata": {},
   "outputs": [],
   "source": [
    "SELECT toStartOfDay(toDateTime(date)) AS __timestamp,\n",
    "       source AS source,\n",
    "                 max(users) AS \"MAX(users)\"\n",
    "FROM\n",
    "  (SELECT source, date, count(user_id) AS users\n",
    "   FROM\n",
    "     (SELECT DISTINCT user_id,\n",
    "                      toDate(time) AS date,\n",
    "                      source\n",
    "      FROM simulator_20221120.feed_actions\n",
    "      WHERE user_id in\n",
    "          (SELECT DISTINCT user_id\n",
    "           FROM\n",
    "             (SELECT user_id,\n",
    "                     min(toDate(time)) AS start_day\n",
    "              FROM simulator_20221120.feed_actions\n",
    "              GROUP BY user_id\n",
    "              HAVING start_day = toDate('2022-11-15'))))\n",
    "   GROUP BY date, source) AS virtual_table\n",
    "GROUP BY source,\n",
    "         toStartOfDay(toDateTime(date))\n",
    "ORDER BY \"MAX(users)\" DESC\n",
    "LIMIT 1000;"
   ]
  },
  {
   "cell_type": "markdown",
   "id": "f2eb3897",
   "metadata": {},
   "source": [
    "#### Retention ads 15 ноября 2022 года\n"
   ]
  },
  {
   "cell_type": "code",
   "execution_count": null,
   "id": "a5401d9c",
   "metadata": {},
   "outputs": [],
   "source": [
    "SELECT day AS day,\n",
    "              start_day AS start_day,\n",
    "              max(users) AS \"MAX(users)\"\n",
    "FROM\n",
    "  (SELECT toString(start_day) start_day,\n",
    "          toString(day) day,\n",
    "                        count(user_id) AS users,\n",
    "                        source\n",
    "   FROM\n",
    "     (SELECT *\n",
    "      FROM\n",
    "        (SELECT user_id,\n",
    "                min(toDate(time)) AS start_day,\n",
    "                source\n",
    "         FROM simulator_20221120.feed_actions\n",
    "         GROUP BY user_id,\n",
    "                  source) t1\n",
    "      JOIN\n",
    "        (SELECT DISTINCT user_id,\n",
    "                         toDate(time) AS day\n",
    "         FROM simulator_20221120.feed_actions) t2 USING user_id\n",
    "      WHERE start_day >= '2022-11-15' )\n",
    "   GROUP BY start_day,\n",
    "            day,\n",
    "            source) AS virtual_table\n",
    "WHERE source = 'ads'\n",
    "  AND start_day < '2022-11-24'\n",
    "  AND day < '2022-11-24'\n",
    "GROUP BY day,\n",
    "         start_day\n",
    "LIMIT 1000;"
   ]
  },
  {
   "cell_type": "markdown",
   "id": "cff4a66d",
   "metadata": {},
   "source": [
    "## Лента новостей-падение активной аудитории в Superset"
   ]
  },
  {
   "cell_type": "markdown",
   "id": "1348709b",
   "metadata": {},
   "source": [
    "### DAU"
   ]
  },
  {
   "cell_type": "code",
   "execution_count": null,
   "id": "afb72cf1",
   "metadata": {},
   "outputs": [],
   "source": [
    "SELECT toStartOfDay(toDateTime(time)) AS __timestamp,\n",
    "       count(DISTINCT user_id) AS \"Уникальные пользователи\"\n",
    "FROM simulator_20221120.feed_actions\n",
    "GROUP BY toStartOfDay(toDateTime(time))\n",
    "ORDER BY \"Уникальные пользователи\" DESC\n",
    "LIMIT 50000;"
   ]
  },
  {
   "cell_type": "markdown",
   "id": "764ce27c",
   "metadata": {},
   "source": [
    "### DAU по каналам привлечения"
   ]
  },
  {
   "cell_type": "code",
   "execution_count": null,
   "id": "70c1b762",
   "metadata": {},
   "outputs": [],
   "source": [
    "SELECT toStartOfDay(toDateTime(time)) AS __timestamp,\n",
    "       source AS source,\n",
    "                 count(DISTINCT user_id) AS \"Уникальные пользователи\"\n",
    "FROM simulator_20221120.feed_actions\n",
    "GROUP BY source,\n",
    "         toStartOfDay(toDateTime(time))\n",
    "ORDER BY \"Уникальные пользователи\" DESC\n",
    "LIMIT 50000;"
   ]
  },
  {
   "cell_type": "markdown",
   "id": "a3fc6308",
   "metadata": {},
   "source": [
    "### DAU в разрезе OS"
   ]
  },
  {
   "cell_type": "code",
   "execution_count": null,
   "id": "b91b49c9",
   "metadata": {},
   "outputs": [],
   "source": [
    "SELECT toStartOfDay(toDateTime(time)) AS __timestamp,\n",
    "       os AS os,\n",
    "       count(DISTINCT user_id) AS \"Уникальные пользователи\"\n",
    "FROM simulator_20221120.feed_actions\n",
    "GROUP BY os,\n",
    "         toStartOfDay(toDateTime(time))\n",
    "ORDER BY \"Уникальные пользователи\" DESC\n",
    "LIMIT 50000;"
   ]
  },
  {
   "cell_type": "markdown",
   "id": "0f405baf",
   "metadata": {},
   "source": [
    "### DAU по странам"
   ]
  },
  {
   "cell_type": "code",
   "execution_count": null,
   "id": "91d7400a",
   "metadata": {},
   "outputs": [],
   "source": [
    "SELECT toStartOfDay(toDateTime(time)) AS __timestamp,\n",
    "       country AS country,\n",
    "       count(DISTINCT user_id) AS \"Уникальные пользователи\"\n",
    "FROM simulator_20221120.feed_actions\n",
    "GROUP BY country,\n",
    "         toStartOfDay(toDateTime(time))\n",
    "ORDER BY \"Уникальные пользователи\" DESC\n",
    "LIMIT 50000;"
   ]
  },
  {
   "cell_type": "markdown",
   "id": "08c2a917",
   "metadata": {},
   "source": [
    "### DAU по странам без России"
   ]
  },
  {
   "cell_type": "code",
   "execution_count": null,
   "id": "e9a0adbd",
   "metadata": {},
   "outputs": [],
   "source": [
    "SELECT toStartOfDay(toDateTime(time)) AS __timestamp,\n",
    "       country AS country,\n",
    "       count(DISTINCT user_id) AS \"Уникальные пользователи\"\n",
    "FROM simulator_20221120.feed_actions\n",
    "WHERE country != 'Russia'\n",
    "GROUP BY country,\n",
    "         toStartOfDay(toDateTime(time))\n",
    "ORDER BY \"Уникальные пользователи\" DESC\n",
    "LIMIT 50000;"
   ]
  },
  {
   "cell_type": "markdown",
   "id": "731430bd",
   "metadata": {},
   "source": [
    "### DAU в разрезе городов России"
   ]
  },
  {
   "cell_type": "code",
   "execution_count": null,
   "id": "55047115",
   "metadata": {},
   "outputs": [],
   "source": [
    "SELECT toStartOfDay(toDateTime(time)) AS __timestamp,\n",
    "       city AS city,\n",
    "       count(DISTINCT user_id) AS \"Уникальные пользователи\"\n",
    "FROM\n",
    "  (select *,\n",
    "          CASE\n",
    "              WHEN age < 18 THEN '3-12'\n",
    "              when age < 22 THEN '13-19'\n",
    "              when age < 26 THEN '20-29'\n",
    "              when age < 30 THEN '30-39'\n",
    "              when age < 36 THEN '40-49'\n",
    "              when age < 41 THEN '50-59'\n",
    "              when age < 51 THEN '60-69'\n",
    "              when age < 66 THEN '70-79'\n",
    "              ELSE '80+'\n",
    "          END age_cat,\n",
    "          CASE\n",
    "              WHEN gender = 0 THEN 'Male'\n",
    "              ELSE 'Female'\n",
    "          END gender_label\n",
    "   from simulator_20221020.feed_actions) AS virtual_table\n",
    "WHERE time >= toDateTime('2022-10-20 00:00:00')\n",
    "  AND time < toDateTime('2022-11-05 00:00:00')\n",
    "  AND country = 'Russia'\n",
    "GROUP BY city,\n",
    "         toStartOfDay(toDateTime(time))\n",
    "ORDER BY \"Уникальные пользователи\" DESC\n",
    "LIMIT 100;"
   ]
  },
  {
   "cell_type": "markdown",
   "id": "143d85c9",
   "metadata": {},
   "source": [
    "## Лента новостей -активная аудитория с точки зрения новых, старых и ушедших пользователей в Superset"
   ]
  },
  {
   "cell_type": "markdown",
   "id": "f873630b",
   "metadata": {},
   "source": [
    "### Аудитория по неделям"
   ]
  },
  {
   "cell_type": "code",
   "execution_count": null,
   "id": "529999a0",
   "metadata": {},
   "outputs": [],
   "source": [
    "SELECT toStartOfDay(toDateTime(this_week)) AS __timestamp,\n",
    "       status AS status,\n",
    "       AVG(num_users) AS \"AVG(num_users)\"\n",
    "FROM\n",
    "  (SELECT this_week,\n",
    "          previous_week, -uniq(user_id) as num_users,\n",
    "                          status\n",
    "   FROM\n",
    "     (SELECT user_id,\n",
    "             groupUniqArray(toMonday(toDate(time))) as weeks_visited,\n",
    "             addWeeks(arrayJoin(weeks_visited), +1) this_week,\n",
    "             if(has(weeks_visited, this_week) = 1, 'retained', 'gone') as status,\n",
    "             addWeeks(this_week, -1) as previous_week\n",
    "      FROM simulator_20221120.feed_actions\n",
    "      group by user_id)\n",
    "   where status = 'gone'\n",
    "   group by this_week,\n",
    "            previous_week,\n",
    "            status\n",
    "   HAVING this_week != addWeeks(toMonday(today()), +1)\n",
    "   union all SELECT this_week,\n",
    "                    previous_week,\n",
    "                    toInt64(uniq(user_id)) as num_users,\n",
    "                    status\n",
    "   FROM\n",
    "     (SELECT user_id,\n",
    "             groupUniqArray(toMonday(toDate(time))) as weeks_visited,\n",
    "             arrayJoin(weeks_visited) this_week,\n",
    "             if(has(weeks_visited, addWeeks(this_week, -1)) = 1, 'retained', 'new') as status,\n",
    "             addWeeks(this_week, -1) as previous_week\n",
    "      FROM simulator_20221120.feed_actions\n",
    "      group by user_id)\n",
    "   group by this_week,\n",
    "            previous_week,\n",
    "            status) AS virtual_table\n",
    "GROUP BY status,\n",
    "         toStartOfDay(toDateTime(this_week))\n",
    "ORDER BY \"AVG(num_users)\" DESC\n",
    "LIMIT 1000;"
   ]
  }
 ],
 "metadata": {
  "kernelspec": {
   "display_name": "Python 3 (ipykernel)",
   "language": "python",
   "name": "python3"
  },
  "language_info": {
   "codemirror_mode": {
    "name": "ipython",
    "version": 3
   },
   "file_extension": ".py",
   "mimetype": "text/x-python",
   "name": "python",
   "nbconvert_exporter": "python",
   "pygments_lexer": "ipython3",
   "version": "3.9.7"
  },
  "toc": {
   "base_numbering": 1,
   "nav_menu": {},
   "number_sections": true,
   "sideBar": true,
   "skip_h1_title": true,
   "title_cell": "Table of Contents",
   "title_sidebar": "Contents",
   "toc_cell": true,
   "toc_position": {},
   "toc_section_display": true,
   "toc_window_display": false
  }
 },
 "nbformat": 4,
 "nbformat_minor": 5
}
