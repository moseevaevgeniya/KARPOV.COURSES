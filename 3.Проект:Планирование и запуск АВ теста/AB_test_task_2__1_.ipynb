{
 "cells": [
  {
   "cell_type": "markdown",
   "id": "07c1a67a-67aa-4fec-a903-96091d915a2f",
   "metadata": {},
   "source": [
    "# Оценка результатов проведения А/В тестирования данных пользователей ленты новостей"
   ]
  },
  {
   "cell_type": "markdown",
   "id": "6289c20a-0bfc-4098-905e-82dc03dba7ca",
   "metadata": {},
   "source": [
    "У нас параллельно идут два теста, оба – с  2022-12-02 по 2022-12-08 включительно\n",
    "\n",
    "Первый:\n",
    "* exp_group = 1 - Все по-старому\n",
    "* exp_group = 2 - Рекомендации \"похожих на лайкнутые постов\"\n",
    "\n",
    "\n",
    "Второй:\n",
    "* exp_group = 0 – Все по-старому\n",
    "* exp_group = 3 - Рекомендации \"постов, которые лайкали похожие на вас люди\""
   ]
  },
  {
   "cell_type": "markdown",
   "id": "34de27ba-3b63-4158-8b65-a00d6b694e10",
   "metadata": {},
   "source": [
    "Мы будем оценивать *первый* А/В тест.  \n",
    "Для эксперимента были задействованы 2 и 1 группы.  \n",
    "\n",
    "**Основная гипотеза** - новый алгоритм во 2-й группе приведет к увеличению CTR.  \n",
    "\n",
    "**Наша задача** — проанализировать данные первого АB-теста, который проводился на 1 и 2 группах. \n"
   ]
  },
  {
   "cell_type": "markdown",
   "id": "87b42663-cd89-43cf-96c8-981d09866d7e",
   "metadata": {},
   "source": [
    "## Загрузка данных"
   ]
  },
  {
   "cell_type": "markdown",
   "id": "7a0ac020-5e0b-4d30-a29b-c113dbf4a705",
   "metadata": {},
   "source": [
    "Загружаем необходимые библиотеки:"
   ]
  },
  {
   "cell_type": "code",
   "execution_count": 1,
   "id": "68214ae2-02ac-49b7-ab4b-a56eda13c869",
   "metadata": {},
   "outputs": [],
   "source": [
    "import pandas as pd\n",
    "import pandahouse as ph\n",
    "import numpy as np\n",
    "import matplotlib.pyplot as plt\n",
    "import seaborn as sns\n",
    "from scipy import stats\n",
    "from tqdm.auto import tqdm\n",
    "\n",
    "%matplotlib inline"
   ]
  },
  {
   "cell_type": "markdown",
   "id": "8beb0f21-f24c-44ba-a595-792f24a78525",
   "metadata": {},
   "source": [
    "Подключаемся к базе данных clickhouse:"
   ]
  },
  {
   "cell_type": "code",
   "execution_count": 2,
   "id": "3128e324-d019-4a11-a314-efb38bfcf585",
   "metadata": {},
   "outputs": [],
   "source": [
    "connection = {'host': 'https://clickhouse.lab.karpov.courses',\n",
    "                      'database':'simulator_20221220',\n",
    "                      'user':'student', \n",
    "                      'password':'dpo_python_2020'\n",
    "                     }"
   ]
  },
  {
   "cell_type": "markdown",
   "id": "3e1d8fc4-5194-4ded-a32f-09455a704740",
   "metadata": {},
   "source": [
    "Делаем SQL  запрос к базе данных ленты новостей и отбираем данные с '2022-12-02' по '2022-12-08' для 1 и 2 экспериментальных групп:"
   ]
  },
  {
   "cell_type": "code",
   "execution_count": 3,
   "id": "14ba51ba-15e6-4d73-953a-414038c71bda",
   "metadata": {},
   "outputs": [
    {
     "data": {
      "text/html": [
       "<div>\n",
       "<style scoped>\n",
       "    .dataframe tbody tr th:only-of-type {\n",
       "        vertical-align: middle;\n",
       "    }\n",
       "\n",
       "    .dataframe tbody tr th {\n",
       "        vertical-align: top;\n",
       "    }\n",
       "\n",
       "    .dataframe thead th {\n",
       "        text-align: right;\n",
       "    }\n",
       "</style>\n",
       "<table border=\"1\" class=\"dataframe\">\n",
       "  <thead>\n",
       "    <tr style=\"text-align: right;\">\n",
       "      <th></th>\n",
       "      <th>exp_group</th>\n",
       "      <th>user_id</th>\n",
       "      <th>likes</th>\n",
       "      <th>views</th>\n",
       "      <th>ctr</th>\n",
       "    </tr>\n",
       "  </thead>\n",
       "  <tbody>\n",
       "    <tr>\n",
       "      <th>0</th>\n",
       "      <td>1</td>\n",
       "      <td>109963</td>\n",
       "      <td>3</td>\n",
       "      <td>15</td>\n",
       "      <td>0.200000</td>\n",
       "    </tr>\n",
       "    <tr>\n",
       "      <th>1</th>\n",
       "      <td>1</td>\n",
       "      <td>26117</td>\n",
       "      <td>32</td>\n",
       "      <td>141</td>\n",
       "      <td>0.226950</td>\n",
       "    </tr>\n",
       "    <tr>\n",
       "      <th>2</th>\n",
       "      <td>1</td>\n",
       "      <td>138232</td>\n",
       "      <td>18</td>\n",
       "      <td>73</td>\n",
       "      <td>0.246575</td>\n",
       "    </tr>\n",
       "    <tr>\n",
       "      <th>3</th>\n",
       "      <td>1</td>\n",
       "      <td>26295</td>\n",
       "      <td>33</td>\n",
       "      <td>122</td>\n",
       "      <td>0.270492</td>\n",
       "    </tr>\n",
       "    <tr>\n",
       "      <th>4</th>\n",
       "      <td>1</td>\n",
       "      <td>18392</td>\n",
       "      <td>7</td>\n",
       "      <td>32</td>\n",
       "      <td>0.218750</td>\n",
       "    </tr>\n",
       "  </tbody>\n",
       "</table>\n",
       "</div>"
      ],
      "text/plain": [
       "   exp_group  user_id  likes  views       ctr\n",
       "0          1   109963      3     15  0.200000\n",
       "1          1    26117     32    141  0.226950\n",
       "2          1   138232     18     73  0.246575\n",
       "3          1    26295     33    122  0.270492\n",
       "4          1    18392      7     32  0.218750"
      ]
     },
     "execution_count": 3,
     "metadata": {},
     "output_type": "execute_result"
    }
   ],
   "source": [
    "\n",
    "q = \"\"\"\n",
    "SELECT exp_group, \n",
    "    user_id,\n",
    "    sum(action = 'like') as likes,\n",
    "    sum(action = 'view') as views,\n",
    "    likes/views as ctr\n",
    "FROM {db}.feed_actions \n",
    "WHERE toDate(time) between '2022-12-02' and '2022-12-08'\n",
    "    and exp_group in (1,2)\n",
    "GROUP BY exp_group, user_id\n",
    "\"\"\"\n",
    "\n",
    "df = ph.read_clickhouse(q, connection=connection)\n",
    "\n",
    "df.head()"
   ]
  },
  {
   "cell_type": "markdown",
   "id": "e023dfe6-0503-457f-80c8-a4d5d932a58c",
   "metadata": {},
   "source": [
    "Проверяем, равны ли группы по числу пользователей - должны быть : более-менее равны"
   ]
  },
  {
   "cell_type": "code",
   "execution_count": 4,
   "id": "1cb1f40c-98ba-44a3-b016-d4fcc551c4fb",
   "metadata": {},
   "outputs": [
    {
     "data": {
      "text/html": [
       "<div>\n",
       "<style scoped>\n",
       "    .dataframe tbody tr th:only-of-type {\n",
       "        vertical-align: middle;\n",
       "    }\n",
       "\n",
       "    .dataframe tbody tr th {\n",
       "        vertical-align: top;\n",
       "    }\n",
       "\n",
       "    .dataframe thead th {\n",
       "        text-align: right;\n",
       "    }\n",
       "</style>\n",
       "<table border=\"1\" class=\"dataframe\">\n",
       "  <thead>\n",
       "    <tr style=\"text-align: right;\">\n",
       "      <th></th>\n",
       "      <th>user_id</th>\n",
       "      <th>likes</th>\n",
       "      <th>views</th>\n",
       "      <th>ctr</th>\n",
       "    </tr>\n",
       "    <tr>\n",
       "      <th>exp_group</th>\n",
       "      <th></th>\n",
       "      <th></th>\n",
       "      <th></th>\n",
       "      <th></th>\n",
       "    </tr>\n",
       "  </thead>\n",
       "  <tbody>\n",
       "    <tr>\n",
       "      <th>1</th>\n",
       "      <td>10079</td>\n",
       "      <td>10079</td>\n",
       "      <td>10079</td>\n",
       "      <td>10079</td>\n",
       "    </tr>\n",
       "    <tr>\n",
       "      <th>2</th>\n",
       "      <td>9952</td>\n",
       "      <td>9952</td>\n",
       "      <td>9952</td>\n",
       "      <td>9952</td>\n",
       "    </tr>\n",
       "  </tbody>\n",
       "</table>\n",
       "</div>"
      ],
      "text/plain": [
       "           user_id  likes  views    ctr\n",
       "exp_group                              \n",
       "1            10079  10079  10079  10079\n",
       "2             9952   9952   9952   9952"
      ]
     },
     "execution_count": 4,
     "metadata": {},
     "output_type": "execute_result"
    }
   ],
   "source": [
    "df.groupby('exp_group').count()"
   ]
  },
  {
   "cell_type": "markdown",
   "id": "4de482f4-3c07-4117-b85d-19b022041745",
   "metadata": {},
   "source": [
    "Всё ОК! Группы получились примерно более-менее равны."
   ]
  },
  {
   "cell_type": "markdown",
   "id": "3d79b6eb-ec2f-4db7-9cd0-09395b7da911",
   "metadata": {},
   "source": [
    "Поделим на две группы:"
   ]
  },
  {
   "cell_type": "code",
   "execution_count": 5,
   "id": "e93fdc72-88d2-4572-ac44-733a8d4551c0",
   "metadata": {},
   "outputs": [],
   "source": [
    "group_1 = df[df.exp_group == 1]\n",
    "group_2 = df[df.exp_group == 2]"
   ]
  },
  {
   "cell_type": "markdown",
   "id": "dad1806a-caea-4e23-8037-c9328b94f16a",
   "metadata": {},
   "source": [
    "Первую группу посмотрим глазами, а именно распределение CTR:"
   ]
  },
  {
   "cell_type": "code",
   "execution_count": 6,
   "id": "7dd12d0d-f511-4953-b353-1895f3835685",
   "metadata": {},
   "outputs": [
    {
     "data": {
      "text/plain": [
       "<AxesSubplot:xlabel='ctr', ylabel='Count'>"
      ]
     },
     "execution_count": 6,
     "metadata": {},
     "output_type": "execute_result"
    },
    {
     "data": {
      "image/png": "[encoded data removed]",
      "text/plain": [
       "<Figure size 720x576 with 1 Axes>"
      ]
     },
     "metadata": {
      "needs_background": "light"
     },
     "output_type": "display_data"
    }
   ],
   "source": [
    "plt.figure(figsize=(10, 8))\n",
    "sns.histplot(data = group_1, x='ctr')"
   ]
  },
  {
   "cell_type": "markdown",
   "id": "8c3b7516-1e93-418d-82e2-e0fb8aa6fc84",
   "metadata": {},
   "source": [
    "Распределение данных CTR для первой группы вроде выглядит нормальным.  "
   ]
  },
  {
   "cell_type": "markdown",
   "id": "57762609-5279-4eec-824e-8ab4066e7ab1",
   "metadata": {},
   "source": [
    "Теперь посмотрим распределение CTR для второй группы: "
   ]
  },
  {
   "cell_type": "code",
   "execution_count": 7,
   "id": "a2975049-969f-4030-9a95-34d33a4865cc",
   "metadata": {},
   "outputs": [
    {
     "data": {
      "text/plain": [
       "<AxesSubplot:xlabel='ctr', ylabel='Count'>"
      ]
     },
     "execution_count": 7,
     "metadata": {},
     "output_type": "execute_result"
    },
    {
     "data": {
      "image/png": "[encoded data removed]",
      "text/plain": [
       "<Figure size 720x576 with 1 Axes>"
      ]
     },
     "metadata": {
      "needs_background": "light"
     },
     "output_type": "display_data"
    }
   ],
   "source": [
    "plt.figure(figsize=(10, 8))\n",
    "sns.histplot(data = group_2, x='ctr')"
   ]
  },
  {
   "cell_type": "markdown",
   "id": "221cc411-0b02-4ad1-8df5-e8e5d5f1aa5f",
   "metadata": {},
   "source": [
    "У второй группы распределение совсем далеко от нормального.  \n",
    "Посмотрим распределение CTR для двух групп на одном графике:"
   ]
  },
  {
   "cell_type": "code",
   "execution_count": 8,
   "id": "b0686dfa-6916-4364-82c4-b8dc77ebc603",
   "metadata": {},
   "outputs": [
    {
     "data": {
      "image/png": "[encoded data removed]",
      "text/plain": [
       "<Figure size 720x576 with 1 Axes>"
      ]
     },
     "metadata": {
      "needs_background": "light"
     },
     "output_type": "display_data"
    }
   ],
   "source": [
    "# на одном графике - визуально сильно отличаются друг от друга - но какое лучше?\n",
    "plt.figure(figsize=(10, 8))\n",
    "groups = sns.histplot(data = df, \n",
    "              x='ctr', \n",
    "              hue='exp_group', \n",
    "              palette = ['r', 'b'],\n",
    "              alpha=0.5,\n",
    "              kde=False)"
   ]
  },
  {
   "cell_type": "markdown",
   "id": "4c9e3b03-1bd4-48a1-a16d-e12b939cc938",
   "metadata": {},
   "source": [
    "Визуально мы видим что, CTR  двух групп отличаются. В таком случае сравним данные тестами."
   ]
  },
  {
   "cell_type": "markdown",
   "id": "d3ddde1b-58a0-4151-baf4-3206f9509e70",
   "metadata": {},
   "source": [
    "### Сравнение результатов А/В тестирования с помощью тестов: T-критерий и Манна-Уитни"
   ]
  },
  {
   "cell_type": "markdown",
   "id": "bec99e17-6ba5-4f74-a55b-ece63a15f911",
   "metadata": {},
   "source": [
    "**T- критерий:** "
   ]
  },
  {
   "cell_type": "code",
   "execution_count": 9,
   "id": "410dbe6c-0983-4d45-ac9d-79ca107884be",
   "metadata": {},
   "outputs": [
    {
     "data": {
      "text/plain": [
       "Ttest_indResult(statistic=0.7094392041270486, pvalue=0.4780623130874935)"
      ]
     },
     "execution_count": 9,
     "metadata": {},
     "output_type": "execute_result"
    }
   ],
   "source": [
    "stats.ttest_ind(df[df.exp_group == 1].ctr,\n",
    "                df[df.exp_group == 2].ctr,\n",
    "                equal_var=False)"
   ]
  },
  {
   "cell_type": "markdown",
   "id": "e6ed91d7-c93b-457c-93b6-0387abdcd80e",
   "metadata": {},
   "source": [
    "**Вывод:**  \n",
    "T-test показал, что нет статистически значимых различий.  \n",
    "Возможно, тест не сработалв связи с тем, что распределение 2-ой группы  сильно далеко от нормального."
   ]
  },
  {
   "cell_type": "markdown",
   "id": "76b494a1-2d72-47fc-af7b-689d24c683fa",
   "metadata": {},
   "source": [
    "**Тест Манна-Уитни:**"
   ]
  },
  {
   "cell_type": "code",
   "execution_count": 10,
   "id": "2047d394-7f41-4ca1-9fa6-f7722af5d129",
   "metadata": {},
   "outputs": [
    {
     "data": {
      "text/plain": [
       "MannwhitneyuResult(statistic=56601260.5, pvalue=6.0376484617779035e-56)"
      ]
     },
     "execution_count": 10,
     "metadata": {},
     "output_type": "execute_result"
    }
   ],
   "source": [
    "stats.mannwhitneyu(df[df.exp_group == 1].ctr, \n",
    "                   df[df.exp_group == 2].ctr,\n",
    "                   alternative = 'two-sided')"
   ]
  },
  {
   "cell_type": "code",
   "execution_count": 11,
   "id": "0e46d645-3c20-4f68-8269-823a2c8e1034",
   "metadata": {},
   "outputs": [
    {
     "name": "stdout",
     "output_type": "stream",
     "text": [
      "В 57.11 % случаев A > B. Должно получиться около 50%\n"
     ]
    }
   ],
   "source": [
    "A_gt_B = 0\n",
    "for _ in range(10000):\n",
    "    A_gt_B+= df[df.exp_group == 1].ctr.sample().values[0] > df[df.exp_group == 2].ctr.sample().values[0]\n",
    "    \n",
    "print('В', A_gt_B/100, '% случаев A > B. Должно получиться около 50%')"
   ]
  },
  {
   "cell_type": "markdown",
   "id": "2ab9b609-5012-48e1-b202-fd0ce1741057",
   "metadata": {},
   "source": [
    " **Вывод**  \n",
    " Тест Манна-Уитни, напротив, показал, что статистические значимые различия есть. Причём в 1 группе (контроль) CTR больше?"
   ]
  },
  {
   "cell_type": "markdown",
   "id": "c0d4ab73-f8b5-4971-bcfc-dea3a6805269",
   "metadata": {},
   "source": [
    "### Сглаженный CTR"
   ]
  },
  {
   "cell_type": "markdown",
   "id": "d1d56669-64b8-42a9-a04c-788fc0ad70fd",
   "metadata": {},
   "source": [
    "Проблема t-теста на пользовательском CTR в том, что у нас есть пользователи с небольшим количеством просмотров, а их CTR сильно зашумлен. Мы почти ничего не знаем о CTR пользователей, у которых всего 3 просмотра, независимо от количества их кликов. Когда у пользователя есть 20 просмотров, мы можем сделать приемлемую оценку CTR этого пользователя. А если у пользователя 200 просмотров, мы можем \\pm± точно оценить его CTR."
   ]
  },
  {
   "cell_type": "markdown",
   "id": "636acd92-534b-4300-9be8-b4f7dd589f93",
   "metadata": {},
   "source": [
    "Попробуем «сгладить» наши оценки CTR. Для этого сначала-копируем функцию для расчёта сглаженного CTR:"
   ]
  },
  {
   "cell_type": "code",
   "execution_count": 12,
   "id": "f5f5304a-8ce6-4395-9ee3-20a788a06225",
   "metadata": {},
   "outputs": [],
   "source": [
    "def get_smothed_ctr(user_likes, user_views, global_ctr, alpha):\n",
    "    smothed_ctr = (user_likes + alpha * global_ctr) / (user_views + alpha)\n",
    "    return smothed_ctr"
   ]
  },
  {
   "cell_type": "markdown",
   "id": "bdf3ee56-5d32-4d89-94bf-058c68857993",
   "metadata": {},
   "source": [
    "Считаем общегрупповой CTR для каждой группы:"
   ]
  },
  {
   "cell_type": "code",
   "execution_count": 13,
   "id": "6d88b23b-3bb2-487f-a847-08ddf7dc3bb6",
   "metadata": {},
   "outputs": [],
   "source": [
    "global_ctr_1 = group_1.likes.sum() / group_1.views.sum()\n",
    "global_ctr_2 = group_2.likes.sum() / group_2.views.sum()"
   ]
  },
  {
   "cell_type": "markdown",
   "id": "32cc25db-bd69-46ca-8d13-f61444062164",
   "metadata": {},
   "source": [
    "Смотрим на распределение сглаженного CTR для 1 группы:"
   ]
  },
  {
   "cell_type": "code",
   "execution_count": 14,
   "id": "94719c55-5792-42f6-9c47-24559dc83bc3",
   "metadata": {},
   "outputs": [
    {
     "name": "stderr",
     "output_type": "stream",
     "text": [
      "/tmp/ipykernel_402/3264528073.py:1: SettingWithCopyWarning: \n",
      "A value is trying to be set on a copy of a slice from a DataFrame.\n",
      "Try using .loc[row_indexer,col_indexer] = value instead\n",
      "\n",
      "See the caveats in the documentation: https://pandas.pydata.org/pandas-docs/stable/user_guide/indexing.html#returning-a-view-versus-a-copy\n",
      "  group_1['smothed_ctr'] = df.apply(\n"
     ]
    },
    {
     "data": {
      "text/plain": [
       "<AxesSubplot:xlabel='smothed_ctr', ylabel='Count'>"
      ]
     },
     "execution_count": 14,
     "metadata": {},
     "output_type": "execute_result"
    },
    {
     "data": {
      "image/png": "[encoded data removed]",
      "text/plain": [
       "<Figure size 720x576 with 1 Axes>"
      ]
     },
     "metadata": {
      "needs_background": "light"
     },
     "output_type": "display_data"
    }
   ],
   "source": [
    "group_1['smothed_ctr'] = df.apply(\n",
    "    lambda x: get_smothed_ctr(x['likes'], x['views'], global_ctr_1, 5), axis=1)\n",
    "plt.figure(figsize=(10, 8))\n",
    "sns.histplot(group_1.smothed_ctr, \n",
    "             kde = False)"
   ]
  },
  {
   "cell_type": "markdown",
   "id": "a38161f9-b0a8-45b8-8cf2-01287df930af",
   "metadata": {},
   "source": [
    "Cмотрим на распределение сглаженного CTR для 2 группы:"
   ]
  },
  {
   "cell_type": "code",
   "execution_count": 15,
   "id": "9f890c35-e95d-4c0b-b47d-16812a09b422",
   "metadata": {},
   "outputs": [
    {
     "name": "stderr",
     "output_type": "stream",
     "text": [
      "/tmp/ipykernel_402/959809665.py:1: SettingWithCopyWarning: \n",
      "A value is trying to be set on a copy of a slice from a DataFrame.\n",
      "Try using .loc[row_indexer,col_indexer] = value instead\n",
      "\n",
      "See the caveats in the documentation: https://pandas.pydata.org/pandas-docs/stable/user_guide/indexing.html#returning-a-view-versus-a-copy\n",
      "  group_2['smothed_ctr'] = df.apply(\n"
     ]
    },
    {
     "data": {
      "text/plain": [
       "<AxesSubplot:xlabel='smothed_ctr', ylabel='Count'>"
      ]
     },
     "execution_count": 15,
     "metadata": {},
     "output_type": "execute_result"
    },
    {
     "data": {
      "image/png": "[encoded data removed]",
      "text/plain": [
       "<Figure size 720x576 with 1 Axes>"
      ]
     },
     "metadata": {
      "needs_background": "light"
     },
     "output_type": "display_data"
    }
   ],
   "source": [
    "group_2['smothed_ctr'] = df.apply(\n",
    "    lambda x: get_smothed_ctr(x['likes'], x['views'], global_ctr_2, 5), axis=1)\n",
    "plt.figure(figsize=(10, 8))\n",
    "sns.histplot(group_2.smothed_ctr, \n",
    "             kde = False)"
   ]
  },
  {
   "cell_type": "markdown",
   "id": "22e22adc-f7ba-47c8-baf7-8a76de9e7309",
   "metadata": {},
   "source": [
    "#### Т-test для сглаженного CTR"
   ]
  },
  {
   "cell_type": "code",
   "execution_count": 16,
   "id": "97a63709-acb9-42cd-8c00-6b07dfcb1382",
   "metadata": {},
   "outputs": [
    {
     "data": {
      "text/plain": [
       "Ttest_indResult(statistic=2.2841320431616983, pvalue=0.0223769815558559)"
      ]
     },
     "execution_count": 16,
     "metadata": {},
     "output_type": "execute_result"
    }
   ],
   "source": [
    "stats.ttest_ind(group_1.smothed_ctr,\n",
    "                group_2.smothed_ctr,\n",
    "                equal_var=False)"
   ]
  },
  {
   "cell_type": "markdown",
   "id": "b8533e0d-ee02-4d07-946b-197d36e6b7a0",
   "metadata": {},
   "source": [
    "#### Тест Манна-Уитни для сглаженного CTR"
   ]
  },
  {
   "cell_type": "code",
   "execution_count": 17,
   "id": "ef2eecaf-1e1a-4899-a4fd-2159ba9d8059",
   "metadata": {},
   "outputs": [
    {
     "data": {
      "text/plain": [
       "MannwhitneyuResult(statistic=56925125.0, pvalue=1.6163964114270227e-61)"
      ]
     },
     "execution_count": 17,
     "metadata": {},
     "output_type": "execute_result"
    }
   ],
   "source": [
    "stats.mannwhitneyu(group_1.smothed_ctr, \n",
    "                   group_2.smothed_ctr,\n",
    "                   alternative = 'two-sided')"
   ]
  },
  {
   "cell_type": "markdown",
   "id": "2ea6f32b-12ee-4b99-a4ca-14bb0daac6e2",
   "metadata": {},
   "source": [
    "**Вывод**  \n",
    "T-test всё равно отрицает различия между группами (но p-value стало меньше), а тест Манна-Уитни допускает значимые различия между группами ещё больше. Однозначного вывода для сглаженного CTR сделать не получается."
   ]
  },
  {
   "cell_type": "markdown",
   "id": "83a7760e-c765-45e9-a804-c36c21e92284",
   "metadata": {},
   "source": [
    "### Пуассоновский бутстреп для подсчета разницы в CTR"
   ]
  },
  {
   "cell_type": "markdown",
   "id": "8947bee6-cc68-4941-b6ec-d8d09999c095",
   "metadata": {},
   "source": [
    "Идея - мы хотим сравнить общегрупповой CTR в группах A и B. Проблема в том, что это всего лишь два числа. А нам хочется, чтобы это было распределение. Предположим, что наши выборки из групп являются хорошей моделью генеральной совокупности.  "
   ]
  },
  {
   "cell_type": "markdown",
   "id": "d31f2f1f-fcc6-451a-bb28-d3ca950d42bc",
   "metadata": {},
   "source": [
    "Набираем распределение для разницы в глобальном CTR:"
   ]
  },
  {
   "cell_type": "code",
   "execution_count": 18,
   "id": "6e35c196-1cff-4147-9ba7-98788ab8469e",
   "metadata": {},
   "outputs": [
    {
     "data": {
      "text/plain": [
       "<AxesSubplot:ylabel='Count'>"
      ]
     },
     "execution_count": 18,
     "metadata": {},
     "output_type": "execute_result"
    },
    {
     "data": {
      "image/png": "[encoded data removed]",
      "text/plain": [
       "<Figure size 720x576 with 1 Axes>"
      ]
     },
     "metadata": {
      "needs_background": "light"
     },
     "output_type": "display_data"
    }
   ],
   "source": [
    "def bootstrap(likes1, views1, likes2, views2, n_bootstrap=2000):\n",
    "\n",
    "    poisson_bootstraps1 = stats.poisson(1).rvs(\n",
    "        (n_bootstrap, len(likes1))).astype(np.int64)\n",
    "\n",
    "    poisson_bootstraps2 = stats.poisson(1).rvs(\n",
    "            (n_bootstrap, len(likes2))).astype(np.int64)\n",
    "    \n",
    "    globalCTR1 = (poisson_bootstraps1*likes1).sum(axis=1)/(poisson_bootstraps1*views1).sum(axis=1)\n",
    "    \n",
    "    globalCTR2 = (poisson_bootstraps2*likes2).sum(axis=1)/(poisson_bootstraps2*views2).sum(axis=1)\n",
    "\n",
    "    return globalCTR1, globalCTR2\n",
    "\n",
    "\n",
    "\n",
    "likes1 = group_1.likes.to_numpy()\n",
    "views1 = group_1.views.to_numpy()\n",
    "likes2 = group_2.likes.to_numpy()\n",
    "views2 = group_2.views.to_numpy()\n",
    "\n",
    "ctr1, ctr2 = bootstrap(likes1, views1, likes2, views2)\n",
    "plt.figure(figsize=(10, 8))\n",
    "sns.histplot(ctr1, color='red')\n",
    "sns.histplot(ctr2)"
   ]
  },
  {
   "cell_type": "code",
   "execution_count": 19,
   "id": "b0e144c9-32f8-41ab-bf67-ca6d33e4424e",
   "metadata": {},
   "outputs": [
    {
     "data": {
      "text/plain": [
       "<AxesSubplot:ylabel='Count'>"
      ]
     },
     "execution_count": 19,
     "metadata": {},
     "output_type": "execute_result"
    },
    {
     "data": {
      "image/png": "[encoded data removed]",
      "text/plain": [
       "<Figure size 720x576 with 1 Axes>"
      ]
     },
     "metadata": {
      "needs_background": "light"
     },
     "output_type": "display_data"
    }
   ],
   "source": [
    "plt.figure(figsize=(10, 8))\n",
    "sns.histplot(ctr2 - ctr1)"
   ]
  },
  {
   "cell_type": "markdown",
   "id": "0ed617b0-a4f3-4c10-bce8-4c1a8895b271",
   "metadata": {},
   "source": [
    "Получилась , что разница между глобальными CTR - отрицательная!"
   ]
  },
  {
   "cell_type": "markdown",
   "id": "9c7d58eb-741b-4c0e-b78c-62ff3b290919",
   "metadata": {},
   "source": [
    "**Вывод**  \n",
    "Пуассоновский бутстреп показал не только разницу между групповыми CTR, но и то, что 2 группа имеет меньший CTR, чем 1. За счёт достаточного количества пользователей в группах удаётся сформировать репрезентативные подвыборки, глобальные CTR получились по гистограмме приближенными к нормальным и наглядно видна разница между ними."
   ]
  },
  {
   "cell_type": "markdown",
   "id": "c8b9b754-e30f-4dc0-a5af-d61fc3af8b21",
   "metadata": {},
   "source": [
    "### Бакетное преобразование"
   ]
  },
  {
   "cell_type": "code",
   "execution_count": 20,
   "id": "f2de5031-24f3-4119-998c-5fa345ee3668",
   "metadata": {},
   "outputs": [],
   "source": [
    "q = \"\"\"\n",
    "SELECT exp_group, bucket,\n",
    "    sum(likes)/sum(views) as bucket_ctr\n",
    "FROM (SELECT exp_group, \n",
    "        xxHash64(user_id)%50 as bucket,\n",
    "        user_id,\n",
    "        sum(action = 'like') as likes,\n",
    "        sum(action = 'view') as views,\n",
    "        likes/views as ctr\n",
    "    FROM {db}.feed_actions \n",
    "    WHERE toDate(time) between '2022-12-02' and '2022-12-08'\n",
    "        and exp_group in (1, 2)\n",
    "    GROUP BY exp_group, bucket, user_id)\n",
    "GROUP BY exp_group, bucket\n",
    "\"\"\"\n",
    "\n",
    "df_bucket = ph.read_clickhouse(q, connection=connection)"
   ]
  },
  {
   "cell_type": "code",
   "execution_count": 21,
   "id": "a6264ca8-ecee-4dc4-a304-9f0a1598ff07",
   "metadata": {},
   "outputs": [
    {
     "data": {
      "text/html": [
       "<div>\n",
       "<style scoped>\n",
       "    .dataframe tbody tr th:only-of-type {\n",
       "        vertical-align: middle;\n",
       "    }\n",
       "\n",
       "    .dataframe tbody tr th {\n",
       "        vertical-align: top;\n",
       "    }\n",
       "\n",
       "    .dataframe thead th {\n",
       "        text-align: right;\n",
       "    }\n",
       "</style>\n",
       "<table border=\"1\" class=\"dataframe\">\n",
       "  <thead>\n",
       "    <tr style=\"text-align: right;\">\n",
       "      <th></th>\n",
       "      <th>exp_group</th>\n",
       "      <th>bucket</th>\n",
       "      <th>bucket_ctr</th>\n",
       "    </tr>\n",
       "  </thead>\n",
       "  <tbody>\n",
       "    <tr>\n",
       "      <th>0</th>\n",
       "      <td>1</td>\n",
       "      <td>0</td>\n",
       "      <td>0.196481</td>\n",
       "    </tr>\n",
       "    <tr>\n",
       "      <th>1</th>\n",
       "      <td>2</td>\n",
       "      <td>0</td>\n",
       "      <td>0.194262</td>\n",
       "    </tr>\n",
       "    <tr>\n",
       "      <th>2</th>\n",
       "      <td>1</td>\n",
       "      <td>1</td>\n",
       "      <td>0.211887</td>\n",
       "    </tr>\n",
       "    <tr>\n",
       "      <th>3</th>\n",
       "      <td>2</td>\n",
       "      <td>1</td>\n",
       "      <td>0.215328</td>\n",
       "    </tr>\n",
       "    <tr>\n",
       "      <th>4</th>\n",
       "      <td>1</td>\n",
       "      <td>2</td>\n",
       "      <td>0.206271</td>\n",
       "    </tr>\n",
       "  </tbody>\n",
       "</table>\n",
       "</div>"
      ],
      "text/plain": [
       "   exp_group  bucket  bucket_ctr\n",
       "0          1       0    0.196481\n",
       "1          2       0    0.194262\n",
       "2          1       1    0.211887\n",
       "3          2       1    0.215328\n",
       "4          1       2    0.206271"
      ]
     },
     "execution_count": 21,
     "metadata": {},
     "output_type": "execute_result"
    }
   ],
   "source": [
    "df_bucket.head()"
   ]
  },
  {
   "cell_type": "markdown",
   "id": "35d64e76-45e6-4a1e-ae42-3ce71ecbf853",
   "metadata": {},
   "source": [
    "**Поверх бакетного преобразования можно, например, применить стандартный t-тест (если примерно выполнены его предположения) или тест Манна-Уитни:**  \n"
   ]
  },
  {
   "cell_type": "markdown",
   "id": "9644f620-b7dd-454e-8e65-39ff6586eddf",
   "metadata": {},
   "source": [
    "Применим Ttest:"
   ]
  },
  {
   "cell_type": "code",
   "execution_count": 22,
   "id": "b2bccbb9-377d-4de3-afc5-f0a2c23952b5",
   "metadata": {},
   "outputs": [
    {
     "data": {
      "text/plain": [
       "Ttest_indResult(statistic=5.668234732053979, pvalue=3.4455951649945907e-07)"
      ]
     },
     "execution_count": 22,
     "metadata": {},
     "output_type": "execute_result"
    }
   ],
   "source": [
    "stats.ttest_ind(df_bucket[df_bucket.exp_group == 1].bucket_ctr, \n",
    "                   df_bucket[df_bucket.exp_group == 2].bucket_ctr, \n",
    "                   equal_var = False)"
   ]
  },
  {
   "cell_type": "markdown",
   "id": "4ded6171-7a8e-413f-9212-bfd0f36042a6",
   "metadata": {},
   "source": [
    "Здесь T-тест видит отличие."
   ]
  },
  {
   "cell_type": "markdown",
   "id": "2c718f73-2510-4c5c-89b3-94a992e7e403",
   "metadata": {},
   "source": [
    "Применим тест Манна-Уитни:"
   ]
  },
  {
   "cell_type": "code",
   "execution_count": 23,
   "id": "1b474795-e50e-4b98-a8a7-96e9a40944b3",
   "metadata": {},
   "outputs": [
    {
     "data": {
      "text/plain": [
       "MannwhitneyuResult(statistic=1995.0, pvalue=2.859963936492646e-07)"
      ]
     },
     "execution_count": 23,
     "metadata": {},
     "output_type": "execute_result"
    }
   ],
   "source": [
    "stats.mannwhitneyu(df_bucket[df_bucket.exp_group == 1].bucket_ctr, \n",
    "                   df_bucket[df_bucket.exp_group == 2].bucket_ctr, \n",
    "                   alternative = 'two-sided')"
   ]
  },
  {
   "cell_type": "markdown",
   "id": "d3c8b852-0441-44fb-a12d-41c776e158d6",
   "metadata": {},
   "source": [
    "И тест Манна-Уитни тоже видит отличие."
   ]
  },
  {
   "cell_type": "markdown",
   "id": "b71192e1-d861-49c8-a2bf-d445474122bf",
   "metadata": {},
   "source": [
    "## Выводы"
   ]
  },
  {
   "cell_type": "markdown",
   "id": "286b8d72-b67b-4ba5-b040-b0d15835f03f",
   "metadata": {},
   "source": [
    "Оценка тестами результатов А/В тестирования показал различные результаты и однозначных выводо сделать нельзя. В связи с чем, эксперимент будем считать неудачным, и в  продакшн такой алгоритм запускать нельзя. "
   ]
  },
  {
   "cell_type": "code",
   "execution_count": null,
   "id": "6a76c9d7-3ed1-4f37-acb3-8eba544ddfec",
   "metadata": {},
   "outputs": [],
   "source": []
  }
 ],
 "metadata": {
  "kernelspec": {
   "display_name": "Python 3 (ipykernel)",
   "language": "python",
   "name": "python3"
  },
  "language_info": {
   "codemirror_mode": {
    "name": "ipython",
    "version": 3
   },
   "file_extension": ".py",
   "mimetype": "text/x-python",
   "name": "python",
   "nbconvert_exporter": "python",
   "pygments_lexer": "ipython3",
   "version": "3.8.10"
  }
 },
 "nbformat": 4,
 "nbformat_minor": 5
}
