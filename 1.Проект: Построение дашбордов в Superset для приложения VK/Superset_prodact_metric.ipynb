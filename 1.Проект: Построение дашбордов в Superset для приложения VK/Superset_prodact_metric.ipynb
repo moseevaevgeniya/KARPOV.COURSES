{
 "cells": [
  {
   "cell_type": "markdown",
   "id": "b0e961ac",
   "metadata": {
    "toc": true
   },
   "source": [
    "<h1>Table of Contents<span class=\"tocSkip\"></span></h1>\n",
    "<div class=\"toc\"><ul class=\"toc-item\"><li><span><a href=\"#Лента-новостей-основное-(за-прошлый-период)\" data-toc-modified-id=\"Лента-новостей-основное-(за-прошлый-период)-1\"><span class=\"toc-item-num\">1&nbsp;&nbsp;</span>Лента новостей-основное (за прошлый период)</a></span><ul class=\"toc-item\"><li><span><a href=\"#Аудиторные-данные\" data-toc-modified-id=\"Аудиторные-данные-1.1\"><span class=\"toc-item-num\">1.1&nbsp;&nbsp;</span>Аудиторные данные</a></span><ul class=\"toc-item\"><li><span><a href=\"#DAU\" data-toc-modified-id=\"DAU-1.1.1\"><span class=\"toc-item-num\">1.1.1&nbsp;&nbsp;</span>DAU</a></span></li><li><span><a href=\"#WAU\" data-toc-modified-id=\"WAU-1.1.2\"><span class=\"toc-item-num\">1.1.2&nbsp;&nbsp;</span>WAU</a></span></li><li><span><a href=\"#MAU\" data-toc-modified-id=\"MAU-1.1.3\"><span class=\"toc-item-num\">1.1.3&nbsp;&nbsp;</span>MAU</a></span></li></ul></li><li><span><a href=\"#Основные-события\" data-toc-modified-id=\"Основные-события-1.2\"><span class=\"toc-item-num\">1.2&nbsp;&nbsp;</span>Основные события</a></span><ul class=\"toc-item\"><li><span><a href=\"#Лайки-и-просмотры\" data-toc-modified-id=\"Лайки-и-просмотры-1.2.1\"><span class=\"toc-item-num\">1.2.1&nbsp;&nbsp;</span>Лайки и просмотры</a></span></li><li><span><a href=\"#CTR\" data-toc-modified-id=\"CTR-1.2.2\"><span class=\"toc-item-num\">1.2.2&nbsp;&nbsp;</span>CTR</a></span></li><li><span><a href=\"#Топ--250-постов\" data-toc-modified-id=\"Топ--250-постов-1.2.3\"><span class=\"toc-item-num\">1.2.3&nbsp;&nbsp;</span>Топ -250 постов</a></span></li><li><span><a href=\"#Каналы-привлечения\" data-toc-modified-id=\"Каналы-привлечения-1.2.4\"><span class=\"toc-item-num\">1.2.4&nbsp;&nbsp;</span>Каналы привлечения</a></span></li><li><span><a href=\"#OS\" data-toc-modified-id=\"OS-1.2.5\"><span class=\"toc-item-num\">1.2.5&nbsp;&nbsp;</span>OS</a></span></li><li><span><a href=\"#Возраст\" data-toc-modified-id=\"Возраст-1.2.6\"><span class=\"toc-item-num\">1.2.6&nbsp;&nbsp;</span>Возраст</a></span></li></ul></li></ul></li><li><span><a href=\"#Лента-новостей--оперативные-данные-(за-сегодняшний-день)\" data-toc-modified-id=\"Лента-новостей--оперативные-данные-(за-сегодняшний-день)-2\"><span class=\"toc-item-num\">2&nbsp;&nbsp;</span>Лента новостей- оперативные данные (за сегодняшний день)</a></span><ul class=\"toc-item\"><li><ul class=\"toc-item\"><li><span><a href=\"#Все-события\" data-toc-modified-id=\"Все-события-2.0.1\"><span class=\"toc-item-num\">2.0.1&nbsp;&nbsp;</span>Все события</a></span></li><li><span><a href=\"#Лайки-и-просмотры\" data-toc-modified-id=\"Лайки-и-просмотры-2.0.2\"><span class=\"toc-item-num\">2.0.2&nbsp;&nbsp;</span>Лайки и просмотры</a></span></li><li><span><a href=\"#Лайки-и-просмотры\" data-toc-modified-id=\"Лайки-и-просмотры-2.0.3\"><span class=\"toc-item-num\">2.0.3&nbsp;&nbsp;</span>Лайки и просмотры</a></span></li></ul></li></ul></li><li><span><a href=\"#Лента-новостей-и-сообщений\" data-toc-modified-id=\"Лента-новостей-и-сообщений-3\"><span class=\"toc-item-num\">3&nbsp;&nbsp;</span>Лента новостей и сообщений</a></span><ul class=\"toc-item\"><li><span><a href=\"#Пользователи-по-категориям\" data-toc-modified-id=\"Пользователи-по-категориям-3.1\"><span class=\"toc-item-num\">3.1&nbsp;&nbsp;</span>Пользователи по категориям</a></span></li><li><span><a href=\"#Аудиторные-данные\" data-toc-modified-id=\"Аудиторные-данные-3.2\"><span class=\"toc-item-num\">3.2&nbsp;&nbsp;</span>Аудиторные данные</a></span><ul class=\"toc-item\"><li><span><a href=\"#DAU\" data-toc-modified-id=\"DAU-3.2.1\"><span class=\"toc-item-num\">3.2.1&nbsp;&nbsp;</span>DAU</a></span></li><li><span><a href=\"#WAU\" data-toc-modified-id=\"WAU-3.2.2\"><span class=\"toc-item-num\">3.2.2&nbsp;&nbsp;</span>WAU</a></span></li><li><span><a href=\"#MAU\" data-toc-modified-id=\"MAU-3.2.3\"><span class=\"toc-item-num\">3.2.3&nbsp;&nbsp;</span>MAU</a></span></li></ul></li></ul></li></ul></div>"
   ]
  },
  {
   "cell_type": "markdown",
   "id": "95499351",
   "metadata": {},
   "source": [
    "# Анализ продуктовых метрик. Дашборты в Superset"
   ]
  },
  {
   "cell_type": "markdown",
   "id": "f8c6bced",
   "metadata": {},
   "source": [
    "## Лента новостей-основное (за прошлый период)"
   ]
  },
  {
   "cell_type": "markdown",
   "id": "9d62c510",
   "metadata": {},
   "source": [
    "### Аудиторные данные"
   ]
  },
  {
   "cell_type": "markdown",
   "id": "44a45b01",
   "metadata": {},
   "source": [
    "#### DAU"
   ]
  },
  {
   "cell_type": "code",
   "execution_count": null,
   "id": "d1a28924",
   "metadata": {},
   "outputs": [],
   "source": [
    "SELECT toStartOfDay(toDateTime(time)) AS __timestamp,\n",
    "       count(DISTINCT user_id) AS \"Уникальные пользователи\"\n",
    "FROM\n",
    "  (select *,\n",
    "          if(gender = '1', 'male', 'female') as gender_label\n",
    "   from simulator_20221120.feed_actions) AS virtual_table\n",
    "GROUP BY toStartOfDay(toDateTime(time))\n",
    "ORDER BY \"Уникальные пользователи\" DESC\n",
    "LIMIT 50000;"
   ]
  },
  {
   "cell_type": "markdown",
   "id": "6a386b35",
   "metadata": {},
   "source": [
    "#### WAU"
   ]
  },
  {
   "cell_type": "code",
   "execution_count": null,
   "id": "6d44d819",
   "metadata": {},
   "outputs": [],
   "source": [
    "SELECT toMonday(toDateTime(time)) AS __timestamp,\n",
    "       count(DISTINCT user_id) AS \"Уникальные пользователи\"\n",
    "FROM\n",
    "  (select *,\n",
    "          if(gender = '1', 'male', 'female') as gender_label\n",
    "   from simulator_20221120.feed_actions) AS virtual_table\n",
    "GROUP BY toMonday(toDateTime(time))\n",
    "ORDER BY \"Уникальные пользователи\" DESC\n",
    "LIMIT 50000;"
   ]
  },
  {
   "cell_type": "markdown",
   "id": "6f552cb9",
   "metadata": {},
   "source": [
    "#### MAU"
   ]
  },
  {
   "cell_type": "code",
   "execution_count": null,
   "id": "d54803b4",
   "metadata": {},
   "outputs": [],
   "source": [
    "SELECT toStartOfMonth(toDateTime(time)) AS __timestamp,\n",
    "       count(DISTINCT user_id) AS \"Уникальные пользователи\"\n",
    "FROM\n",
    "  (select *,\n",
    "          if(gender = '1', 'male', 'female') as gender_label\n",
    "   from simulator_20221120.feed_actions) AS virtual_table\n",
    "GROUP BY toStartOfMonth(toDateTime(time))\n",
    "ORDER BY \"Уникальные пользователи\" DESC\n",
    "LIMIT 50000;"
   ]
  },
  {
   "cell_type": "markdown",
   "id": "00701672",
   "metadata": {},
   "source": [
    "### Основные события"
   ]
  },
  {
   "cell_type": "markdown",
   "id": "ed5670df",
   "metadata": {},
   "source": [
    "#### Лайки и просмотры"
   ]
  },
  {
   "cell_type": "code",
   "execution_count": null,
   "id": "37c03926",
   "metadata": {},
   "outputs": [],
   "source": [
    "SELECT toStartOfDay(toDateTime(time)) AS __timestamp,\n",
    "       action AS action,\n",
    "       count(user_id) AS \"События\"\n",
    "FROM\n",
    "  (select *,\n",
    "          if(gender = '1', 'male', 'female') as gender_label\n",
    "   from simulator_20221120.feed_actions) AS virtual_table\n",
    "GROUP BY action,\n",
    "         toStartOfDay(toDateTime(time))\n",
    "ORDER BY \"События\" DESC\n",
    "LIMIT 50000;"
   ]
  },
  {
   "cell_type": "markdown",
   "id": "2cc95d1d",
   "metadata": {},
   "source": [
    "#### CTR"
   ]
  },
  {
   "cell_type": "code",
   "execution_count": null,
   "id": "eb1ca8bd",
   "metadata": {},
   "outputs": [],
   "source": [
    "SELECT toStartOfDay(toDateTime(time)) AS __timestamp,\n",
    "       countIf(user_id, action='like') / countIf(user_id, action='view') AS \"CTR\"\n",
    "FROM\n",
    "  (select *,\n",
    "          if(gender = '1', 'male', 'female') as gender_label\n",
    "   from simulator_20221120.feed_actions) AS virtual_table\n",
    "GROUP BY toStartOfDay(toDateTime(time))\n",
    "ORDER BY \"CTR\" DESC\n",
    "LIMIT 50000;"
   ]
  },
  {
   "cell_type": "markdown",
   "id": "6306427d",
   "metadata": {},
   "source": [
    "#### Топ -250 постов"
   ]
  },
  {
   "cell_type": "code",
   "execution_count": null,
   "id": "3884e055",
   "metadata": {},
   "outputs": [],
   "source": [
    "SELECT post_id AS post_id,\n",
    "       countIf(action='view') AS \"Просмотры\",\n",
    "       countIf(action='like') AS \"Лайки\",\n",
    "       countIf(action='like') / countIf(action='view') AS \"CTR\",\n",
    "       count(DISTINCT user_id) AS \"Охват\"\n",
    "FROM\n",
    "  (select *,\n",
    "          if(gender = '1', 'male', 'female') as gender_label\n",
    "   from simulator_20221120.feed_actions) AS virtual_table\n",
    "GROUP BY post_id\n",
    "ORDER BY \"Просмотры\" DESC\n",
    "LIMIT 250;"
   ]
  },
  {
   "cell_type": "markdown",
   "id": "6e526e70",
   "metadata": {},
   "source": [
    "#### Каналы привлечения"
   ]
  },
  {
   "cell_type": "code",
   "execution_count": null,
   "id": "1733b413",
   "metadata": {},
   "outputs": [],
   "source": [
    "SELECT toStartOfDay(toDateTime(time)) AS __timestamp,\n",
    "       source AS source,\n",
    "                 count(DISTINCT user_id) AS \"COUNT_DISTINCT(user_id)\"\n",
    "FROM\n",
    "  (select *,\n",
    "          if(gender = '1', 'male', 'female') as gender_label\n",
    "   from simulator_20221120.feed_actions) AS virtual_table\n",
    "GROUP BY source,\n",
    "         toStartOfDay(toDateTime(time))\n",
    "ORDER BY \"COUNT_DISTINCT(user_id)\" DESC\n",
    "LIMIT 50000;"
   ]
  },
  {
   "cell_type": "markdown",
   "id": "ee3ceb0d",
   "metadata": {},
   "source": [
    "#### OS"
   ]
  },
  {
   "cell_type": "code",
   "execution_count": null,
   "id": "33feecab",
   "metadata": {},
   "outputs": [],
   "source": [
    "SELECT toStartOfDay(toDateTime(time)) AS __timestamp,\n",
    "       os AS os,\n",
    "       count(DISTINCT user_id) AS \"COUNT_DISTINCT(user_id)\"\n",
    "FROM\n",
    "  (select *,\n",
    "          if(gender = '1', 'male', 'female') as gender_label\n",
    "   from simulator_20221120.feed_actions) AS virtual_table\n",
    "GROUP BY os,\n",
    "         toStartOfDay(toDateTime(time))\n",
    "ORDER BY \"COUNT_DISTINCT(user_id)\" DESC\n",
    "LIMIT 50000;"
   ]
  },
  {
   "cell_type": "markdown",
   "id": "16dd93a9",
   "metadata": {},
   "source": [
    "#### Возраст"
   ]
  },
  {
   "cell_type": "code",
   "execution_count": null,
   "id": "813fd63a",
   "metadata": {},
   "outputs": [],
   "source": [
    "SELECT age AS age\n",
    "FROM\n",
    "  (select *,\n",
    "          if(gender = '1', 'male', 'female') as gender_label\n",
    "   from simulator_20221120.feed_actions) AS virtual_table\n",
    "LIMIT 10000;"
   ]
  },
  {
   "cell_type": "markdown",
   "id": "ae68f37f",
   "metadata": {},
   "source": [
    "## Лента новостей- оперативные данные (за сегодняшний день)"
   ]
  },
  {
   "cell_type": "markdown",
   "id": "26f31d90",
   "metadata": {},
   "source": [
    "#### Все события"
   ]
  },
  {
   "cell_type": "code",
   "execution_count": null,
   "id": "fd35e10d",
   "metadata": {},
   "outputs": [],
   "source": [
    "SELECT toDateTime(intDiv(toUInt32(toDateTime(time)), 600)*600) AS __timestamp,\n",
    "       count(user_id) AS \"COUNT(user_id)\"\n",
    "FROM\n",
    "  (select *,\n",
    "          if(gender = '1', 'male', 'female') as gender_label\n",
    "   from simulator_20221120.feed_actions) AS virtual_table\n",
    "WHERE time >= toDateTime('2023-04-09 00:00:00')\n",
    "  AND time < toDateTime('2023-04-10 00:00:00')\n",
    "GROUP BY toDateTime(intDiv(toUInt32(toDateTime(time)), 600)*600)\n",
    "ORDER BY \"COUNT(user_id)\" DESC\n",
    "LIMIT 50000;"
   ]
  },
  {
   "cell_type": "markdown",
   "id": "c512870b",
   "metadata": {},
   "source": [
    "#### Лайки и просмотры"
   ]
  },
  {
   "cell_type": "code",
   "execution_count": null,
   "id": "be278fa7",
   "metadata": {},
   "outputs": [],
   "source": [
    "SELECT toDateTime(intDiv(toUInt32(toDateTime(time)), 600)*600) AS __timestamp,\n",
    "       action AS action,\n",
    "       count(user_id) AS \"COUNT(user_id)\"\n",
    "FROM\n",
    "  (select *,\n",
    "          if(gender = '1', 'male', 'female') as gender_label\n",
    "   from simulator_20221120.feed_actions) AS virtual_table\n",
    "WHERE time >= toDateTime('2023-04-09 00:00:00')\n",
    "  AND time < toDateTime('2023-04-10 00:00:00')\n",
    "GROUP BY action,\n",
    "         toDateTime(intDiv(toUInt32(toDateTime(time)), 600)*600)\n",
    "ORDER BY \"COUNT(user_id)\" DESC\n",
    "LIMIT 50000;"
   ]
  },
  {
   "cell_type": "markdown",
   "id": "ea9f79bc",
   "metadata": {},
   "source": [
    "#### Лайки и просмотры"
   ]
  },
  {
   "cell_type": "code",
   "execution_count": null,
   "id": "7e5ff409",
   "metadata": {},
   "outputs": [],
   "source": [
    "SELECT toDateTime(intDiv(toUInt32(toDateTime(time)), 900)*900) AS __timestamp,\n",
    "       round(100 * countIf(action = 'like')/countIf(action = 'view'), 1) AS \"CTR, %\"\n",
    "FROM\n",
    "  (select *,\n",
    "          if(gender = '1', 'male', 'female') as gender_label\n",
    "   from simulator_20221120.feed_actions) AS virtual_table\n",
    "WHERE time >= toDateTime('2023-04-09 00:00:00')\n",
    "  AND time < toDateTime('2023-04-10 00:00:00')\n",
    "GROUP BY toDateTime(intDiv(toUInt32(toDateTime(time)), 900)*900)\n",
    "ORDER BY \"CTR, %\" DESC\n",
    "LIMIT 50000;"
   ]
  },
  {
   "cell_type": "markdown",
   "id": "5368eb11",
   "metadata": {},
   "source": [
    "## Лента новостей и сообщений"
   ]
  },
  {
   "cell_type": "markdown",
   "id": "27062c01",
   "metadata": {},
   "source": [
    "### Пользователи по категориям"
   ]
  },
  {
   "cell_type": "code",
   "execution_count": null,
   "id": "0bcffb79",
   "metadata": {},
   "outputs": [],
   "source": [
    "SELECT toStartOfDay(toDateTime(day)) AS __timestamp,\n",
    "       status AS status,\n",
    "       count(user_id) AS \"COUNT(user_id)\"\n",
    "FROM\n",
    "  (SELECT *\n",
    "   FROM\n",
    "     (SELECT *\n",
    "      FROM\n",
    "        (SELECT user_id,\n",
    "                day,\n",
    "                count_action,\n",
    "                count_message,\n",
    "                IF(count_message > 0, 'feed+message', 'only_feed') AS status\n",
    "         FROM\n",
    "           (SELECT user_id,\n",
    "                   DATE(time) as day,\n",
    "                   COUNT(action) AS count_action\n",
    "            FROM simulator_20221120.feed_actions\n",
    "            GROUP BY user_id,\n",
    "                     DATE(time)) t1\n",
    "         LEFT JOIN\n",
    "           (SELECT user_id,\n",
    "                   DATE(time) AS day,\n",
    "                   COUNT(reciever_id) AS count_message\n",
    "            FROM simulator_20221120.message_actions\n",
    "            GROUP BY user_id,\n",
    "                     DATE(time)) t2 USING user_id,\n",
    "                                          day)\n",
    "      UNION ALL\n",
    "        (SELECT *\n",
    "         FROM\n",
    "           (SELECT user_id,\n",
    "                   day,\n",
    "                   count_action,\n",
    "                   count_message,\n",
    "                   IF(count_action > 0, 'feed+message', 'only_message') AS status\n",
    "            FROM\n",
    "              (SELECT user_id,\n",
    "                      DATE(time) as day,\n",
    "                      COUNT(action) AS count_action\n",
    "               FROM simulator_20221120.feed_actions\n",
    "               GROUP BY user_id,\n",
    "                        DATE(time)) t1\n",
    "            RIGHT JOIN\n",
    "              (SELECT user_id,\n",
    "                      DATE(time) AS day,\n",
    "                      COUNT(reciever_id) AS count_message\n",
    "               FROM simulator_20221120.message_actions\n",
    "               GROUP BY user_id,\n",
    "                        DATE(time)) t2 USING user_id,\n",
    "                                             day)\n",
    "         WHERE status == 'only_message' ))\n",
    "   ORDER BY day,\n",
    "            status DESC) AS virtual_table\n",
    "GROUP BY status,\n",
    "         toStartOfDay(toDateTime(day))\n",
    "ORDER BY \"COUNT(user_id)\" DESC\n",
    "LIMIT 1000;"
   ]
  },
  {
   "cell_type": "markdown",
   "id": "b3705570",
   "metadata": {},
   "source": [
    "### Аудиторные данные\n"
   ]
  },
  {
   "cell_type": "markdown",
   "id": "c8dbaf02",
   "metadata": {},
   "source": [
    "#### DAU"
   ]
  },
  {
   "cell_type": "code",
   "execution_count": null,
   "id": "73f6818a",
   "metadata": {},
   "outputs": [],
   "source": [
    "SELECT toStartOfDay(toDateTime(time)) AS __timestamp,\n",
    "       count(DISTINCT feed_user) AS \"Уникальные пользователи ленты и сообщений\"\n",
    "FROM\n",
    "  (SELECT a.time,\n",
    "          a.user_id as feed_user,\n",
    "          b.user_id as message_user,\n",
    "          a.source,\n",
    "          a.gender,\n",
    "          a.age,\n",
    "          a.country,\n",
    "          a.city,\n",
    "          a.os\n",
    "   FROM simulator_20221120.message_actions as a\n",
    "   left join simulator_20221120.feed_actions as b using user_id) AS virtual_table\n",
    "GROUP BY toStartOfDay(toDateTime(time))\n",
    "ORDER BY \"Уникальные пользователи ленты и сообщений\" DESC\n",
    "LIMIT 1000;"
   ]
  },
  {
   "cell_type": "markdown",
   "id": "be5876ba",
   "metadata": {},
   "source": [
    "#### WAU"
   ]
  },
  {
   "cell_type": "code",
   "execution_count": null,
   "id": "37d50f53",
   "metadata": {},
   "outputs": [],
   "source": [
    "SELECT toMonday(toDateTime(time)) AS __timestamp,\n",
    "       count(DISTINCT feed_user) AS \"Уникальные пользователи ленты и сообщений\"\n",
    "FROM\n",
    "  (SELECT a.time,\n",
    "          a.user_id as feed_user,\n",
    "          b.user_id as message_user,\n",
    "          a.source,\n",
    "          a.gender,\n",
    "          a.age,\n",
    "          a.country,\n",
    "          a.city,\n",
    "          a.os\n",
    "   FROM simulator_20221120.message_actions as a\n",
    "   left join simulator_20221120.feed_actions as b using user_id) AS virtual_table\n",
    "GROUP BY toMonday(toDateTime(time))\n",
    "ORDER BY \"Уникальные пользователи ленты и сообщений\" DESC\n",
    "LIMIT 1000;"
   ]
  },
  {
   "cell_type": "markdown",
   "id": "f8f57bf9",
   "metadata": {},
   "source": [
    "#### MAU"
   ]
  },
  {
   "cell_type": "code",
   "execution_count": null,
   "id": "faf60aa7",
   "metadata": {},
   "outputs": [],
   "source": [
    "SELECT toStartOfMonth(toDateTime(time)) AS __timestamp,\n",
    "       count(DISTINCT feed_user) AS \"Уникальные пользователи ленты и сообщений\"\n",
    "FROM\n",
    "  (SELECT a.time,\n",
    "          a.user_id as feed_user,\n",
    "          b.user_id as message_user,\n",
    "          a.source,\n",
    "          a.gender,\n",
    "          a.age,\n",
    "          a.country,\n",
    "          a.city,\n",
    "          a.os\n",
    "   FROM simulator_20221120.message_actions as a\n",
    "   left join simulator_20221120.feed_actions as b using user_id) AS virtual_table\n",
    "GROUP BY toStartOfMonth(toDateTime(time))\n",
    "ORDER BY \"Уникальные пользователи ленты и сообщений\" DESC\n",
    "LIMIT 1000;"
   ]
  },
  {
   "cell_type": "code",
   "execution_count": null,
   "id": "d1bfced6",
   "metadata": {},
   "outputs": [],
   "source": []
  }
 ],
 "metadata": {
  "kernelspec": {
   "display_name": "Python 3 (ipykernel)",
   "language": "python",
   "name": "python3"
  },
  "language_info": {
   "codemirror_mode": {
    "name": "ipython",
    "version": 3
   },
   "file_extension": ".py",
   "mimetype": "text/x-python",
   "name": "python",
   "nbconvert_exporter": "python",
   "pygments_lexer": "ipython3",
   "version": "3.9.7"
  },
  "toc": {
   "base_numbering": 1,
   "nav_menu": {},
   "number_sections": true,
   "sideBar": true,
   "skip_h1_title": true,
   "title_cell": "Table of Contents",
   "title_sidebar": "Contents",
   "toc_cell": true,
   "toc_position": {},
   "toc_section_display": true,
   "toc_window_display": false
  }
 },
 "nbformat": 4,
 "nbformat_minor": 5
}
