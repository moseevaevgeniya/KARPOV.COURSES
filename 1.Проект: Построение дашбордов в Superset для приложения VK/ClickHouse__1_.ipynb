{
 "cells": [
  {
   "cell_type": "markdown",
   "id": "6f8db5f0-5ee9-4500-9302-32f04528caaf",
   "metadata": {
    "tags": []
   },
   "source": [
    "## Стартап: Лента новостей и мессенджер"
   ]
  },
  {
   "cell_type": "markdown",
   "id": "8606292d-3bd1-4c4a-ae8f-c8f11b7e765c",
   "metadata": {},
   "source": [
    "Прочитаем  данные из хранилища данных ClickHouse и выполним  запрос к ClickHouse таблице прямо из Jupyter Notebook.  \n",
    "Загрузим топ 10 постов и их статистику за вчерашний день и сохраним результат в Pandas Dataframe: "
   ]
  },
  {
   "cell_type": "code",
   "execution_count": 1,
   "id": "778cd9be-371f-48a7-94a3-0c8b11b381e7",
   "metadata": {},
   "outputs": [],
   "source": [
    "import pandas as pd\n",
    "import pandahouse as ph\n",
    "\n",
    "connection = {'host': 'https://clickhouse.lab.karpov.courses',\n",
    "                      'database':'simulator_20221120',\n",
    "                      'user':'student', \n",
    "                      'password':'dpo_python_2020'\n",
    "                     }\n",
    "\n",
    "query = '''\n",
    "select post_id, \n",
    "       countIf(action = 'view') as views, \n",
    "       countIf(action = 'like') as likes, \n",
    "       uniq(user_id) as uniq_users \n",
    "from {db}.feed_actions \n",
    "where toDate(time) = yesterday() \n",
    "group by post_id \n",
    "order by views desc \n",
    "limit 10\n",
    "'''\n",
    "\n",
    "df = ph.read_clickhouse(query, connection=connection)"
   ]
  },
  {
   "cell_type": "code",
   "execution_count": 2,
   "id": "8da3d2d6-cd64-4348-88de-6358bbccff54",
   "metadata": {},
   "outputs": [
    {
     "data": {
      "text/html": [
       "<div>\n",
       "<style scoped>\n",
       "    .dataframe tbody tr th:only-of-type {\n",
       "        vertical-align: middle;\n",
       "    }\n",
       "\n",
       "    .dataframe tbody tr th {\n",
       "        vertical-align: top;\n",
       "    }\n",
       "\n",
       "    .dataframe thead th {\n",
       "        text-align: right;\n",
       "    }\n",
       "</style>\n",
       "<table border=\"1\" class=\"dataframe\">\n",
       "  <thead>\n",
       "    <tr style=\"text-align: right;\">\n",
       "      <th></th>\n",
       "      <th>post_id</th>\n",
       "      <th>views</th>\n",
       "      <th>likes</th>\n",
       "      <th>uniq_users</th>\n",
       "    </tr>\n",
       "  </thead>\n",
       "  <tbody>\n",
       "    <tr>\n",
       "      <th>0</th>\n",
       "      <td>3872</td>\n",
       "      <td>20934</td>\n",
       "      <td>6613</td>\n",
       "      <td>13570</td>\n",
       "    </tr>\n",
       "    <tr>\n",
       "      <th>1</th>\n",
       "      <td>3898</td>\n",
       "      <td>20125</td>\n",
       "      <td>6289</td>\n",
       "      <td>13302</td>\n",
       "    </tr>\n",
       "    <tr>\n",
       "      <th>2</th>\n",
       "      <td>3795</td>\n",
       "      <td>17234</td>\n",
       "      <td>4713</td>\n",
       "      <td>12079</td>\n",
       "    </tr>\n",
       "    <tr>\n",
       "      <th>3</th>\n",
       "      <td>3803</td>\n",
       "      <td>14247</td>\n",
       "      <td>3836</td>\n",
       "      <td>10537</td>\n",
       "    </tr>\n",
       "    <tr>\n",
       "      <th>4</th>\n",
       "      <td>3920</td>\n",
       "      <td>12843</td>\n",
       "      <td>3213</td>\n",
       "      <td>9743</td>\n",
       "    </tr>\n",
       "    <tr>\n",
       "      <th>5</th>\n",
       "      <td>3857</td>\n",
       "      <td>11687</td>\n",
       "      <td>2723</td>\n",
       "      <td>9092</td>\n",
       "    </tr>\n",
       "    <tr>\n",
       "      <th>6</th>\n",
       "      <td>3778</td>\n",
       "      <td>11632</td>\n",
       "      <td>2791</td>\n",
       "      <td>9063</td>\n",
       "    </tr>\n",
       "    <tr>\n",
       "      <th>7</th>\n",
       "      <td>3815</td>\n",
       "      <td>11023</td>\n",
       "      <td>2626</td>\n",
       "      <td>8740</td>\n",
       "    </tr>\n",
       "    <tr>\n",
       "      <th>8</th>\n",
       "      <td>3728</td>\n",
       "      <td>10831</td>\n",
       "      <td>2595</td>\n",
       "      <td>8605</td>\n",
       "    </tr>\n",
       "    <tr>\n",
       "      <th>9</th>\n",
       "      <td>3869</td>\n",
       "      <td>10330</td>\n",
       "      <td>2188</td>\n",
       "      <td>8302</td>\n",
       "    </tr>\n",
       "  </tbody>\n",
       "</table>\n",
       "</div>"
      ],
      "text/plain": [
       "   post_id  views  likes  uniq_users\n",
       "0     3872  20934   6613       13570\n",
       "1     3898  20125   6289       13302\n",
       "2     3795  17234   4713       12079\n",
       "3     3803  14247   3836       10537\n",
       "4     3920  12843   3213        9743\n",
       "5     3857  11687   2723        9092\n",
       "6     3778  11632   2791        9063\n",
       "7     3815  11023   2626        8740\n",
       "8     3728  10831   2595        8605\n",
       "9     3869  10330   2188        8302"
      ]
     },
     "execution_count": 2,
     "metadata": {},
     "output_type": "execute_result"
    }
   ],
   "source": [
    "df"
   ]
  },
  {
   "cell_type": "markdown",
   "id": "3f145ea6-ddbb-4f39-83cc-e7be19a109b3",
   "metadata": {},
   "source": [
    "Таким образом, мы можем читать данные из ClickHouse из Jupyter"
   ]
  },
  {
   "cell_type": "code",
   "execution_count": null,
   "id": "b645c607-5353-46e2-ad78-b87a3e02d8ae",
   "metadata": {},
   "outputs": [],
   "source": []
  }
 ],
 "metadata": {
  "kernelspec": {
   "display_name": "Python 3 (ipykernel)",
   "language": "python",
   "name": "python3"
  },
  "language_info": {
   "codemirror_mode": {
    "name": "ipython",
    "version": 3
   },
   "file_extension": ".py",
   "mimetype": "text/x-python",
   "name": "python",
   "nbconvert_exporter": "python",
   "pygments_lexer": "ipython3",
   "version": "3.8.10"
  }
 },
 "nbformat": 4,
 "nbformat_minor": 5
}
