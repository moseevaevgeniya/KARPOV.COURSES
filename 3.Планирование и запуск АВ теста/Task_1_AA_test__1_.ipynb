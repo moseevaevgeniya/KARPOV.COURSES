{
 "cells": [
  {
   "cell_type": "markdown",
   "id": "226f2e84-8c51-4d70-9e48-677e2a9e042c",
   "metadata": {},
   "source": [
    "# Проведение АА-тестов на  пользователях ленты новостей\n"
   ]
  },
  {
   "cell_type": "markdown",
   "id": "30d4d57b-d976-4f84-a7e2-3cb562c410c4",
   "metadata": {},
   "source": [
    " В идеале было бы здорово провести бесконечное количество АA-тестов и посмотреть, в каком количестве случаем нам удалось отклонить нулевую гипотезу. Если система сплитования работает корректно, то статистически значимые различия между двумя группами встречались бы только в результате случайного ложного срабатывания. Например, если мы отвергаем нулевую гипотезу при условии, что p_value < 0.05, то только приблизительно в 5% случаев у нас бы получались статистические значимые различия между 0 и 1 группой.\n",
    "\n",
    "Понятное дело, что на практике провести бесконечное число тестов у нас навряд ли получится, поэтому используется небольшой трюк! Мы будем многократно извлекать подвыборки из наших данных, проводить t-test, и в конце посмотрим, в каком проценте случаев нам удалось отклонить нулевую гипотезу.\n",
    "\n",
    "**Описание задачи:**  \n",
    "  У нас есть данные АА-теста с '2022-11-25' по '2022-12-01'.  \n",
    " Нам нужно сделать симуляцию, как будто мы провели 10000 АА-тестов. На каждой итерации мы будем формировать подвыборки без повторения в 500 юзеров из 2 и 3 экспериментальной группы. Проведём сравнение этих подвыборок t-testом.\n"
   ]
  },
  {
   "cell_type": "markdown",
   "id": "165a0abc-1cce-436e-b0e5-c0e4786d97fc",
   "metadata": {
    "tags": []
   },
   "source": [
    "## Загрузка данных"
   ]
  },
  {
   "cell_type": "markdown",
   "id": "a15bb261-c621-464c-8e17-e4659ec7edf8",
   "metadata": {},
   "source": [
    "Импортируем все необходимые библиотеки и зададим параметры подключения к БД:"
   ]
  },
  {
   "cell_type": "code",
   "execution_count": 1,
   "id": "357b680f-4c37-40b8-b9a8-ecaf1910a087",
   "metadata": {},
   "outputs": [],
   "source": [
    "import pandas as pd\n",
    "import pandahouse as ph\n",
    "import numpy as np\n",
    "import matplotlib.pyplot as plt\n",
    "import seaborn as sns\n",
    "import hashlib\n",
    "from scipy import stats\n",
    "%matplotlib inline\n",
    "\n",
    "connection = {'host': 'https://clickhouse.lab.karpov.courses',\n",
    "                      'database':'simulator_20221220',\n",
    "                      'user':'student', \n",
    "                      'password':'dpo_python_2020'\n",
    "                     }"
   ]
  },
  {
   "cell_type": "markdown",
   "id": "3459ec9c-3828-4db6-9b69-0fdd86b9f11c",
   "metadata": {},
   "source": [
    "Достаем необходимые данные для AA теста:"
   ]
  },
  {
   "cell_type": "code",
   "execution_count": 2,
   "id": "8b3a518b-e063-4f29-bf24-6bedbeca3df9",
   "metadata": {},
   "outputs": [],
   "source": [
    "q = \"\"\"\n",
    "SELECT exp_group, \n",
    "    user_id,\n",
    "    sum(action = 'like') as likes,\n",
    "    sum(action = 'view') as views,\n",
    "    likes/views as ctr\n",
    "FROM {db}.feed_actions \n",
    "WHERE toDate(time) >= '2022-11-25' and toDate(time) <= '2022-12-01' \n",
    "    and exp_group in (2,3)\n",
    "GROUP BY exp_group, \n",
    "    user_id\n",
    "\"\"\""
   ]
  },
  {
   "cell_type": "markdown",
   "id": "58f514f3-aa41-4be0-b28e-d4f924aef3d9",
   "metadata": {},
   "source": [
    "Делаем запрос SQL, чтобы вытащить пользователей ленты новостей:"
   ]
  },
  {
   "cell_type": "code",
   "execution_count": 3,
   "id": "d1519cae-8ee0-468c-b275-296a95d8bbc9",
   "metadata": {},
   "outputs": [],
   "source": [
    "aa_data = ph.read_clickhouse(q, connection=connection)"
   ]
  },
  {
   "cell_type": "markdown",
   "id": "d770cfc5-0128-466b-b54c-598543bfbb83",
   "metadata": {},
   "source": [
    "Сгруппируем данные, чтобы посмотреть на число пользователей в каждой группе:"
   ]
  },
  {
   "cell_type": "code",
   "execution_count": 4,
   "id": "75a494b4-4ae7-4d48-aac1-f3bdeb5d3eb7",
   "metadata": {},
   "outputs": [
    {
     "data": {
      "text/plain": [
       "exp_group\n",
       "2    8480\n",
       "3    8569\n",
       "Name: user_id, dtype: int64"
      ]
     },
     "execution_count": 4,
     "metadata": {},
     "output_type": "execute_result"
    }
   ],
   "source": [
    "aa_data.groupby('exp_group').user_id.count()"
   ]
  },
  {
   "cell_type": "markdown",
   "id": "89c460e3-5455-476f-a6c3-f8222d50fb02",
   "metadata": {},
   "source": [
    "**Вывод**  \n",
    "У нас две экспериментальные группы: 2 и 3, с количеством пользователей 8450 чел. и 8569 чел. соответственно. Можно сказать что число пользователей примерно одинаковое."
   ]
  },
  {
   "cell_type": "markdown",
   "id": "1b35b09f-4db8-405d-857b-45c7676ca721",
   "metadata": {},
   "source": [
    "## Построим гистограмму распределения получившихся 10000 p-values. "
   ]
  },
  {
   "cell_type": "markdown",
   "id": "70f7a37e-32ad-4870-bd8b-9cb1ce92ad43",
   "metadata": {},
   "source": [
    "Строим гистограмму исходных данных:"
   ]
  },
  {
   "cell_type": "code",
   "execution_count": 5,
   "id": "76324e67-cda2-4f85-aba7-ed5af24b6f2d",
   "metadata": {},
   "outputs": [
    {
     "data": {
      "image/png": "[encoded data removed]",
      "text/plain": [
       "<Figure size 792x504 with 1 Axes>"
      ]
     },
     "metadata": {},
     "output_type": "display_data"
    }
   ],
   "source": [
    "sns.set(rc={'figure.figsize':(11,7)})\n",
    "\n",
    "groups = sns.histplot(data = aa_data, \n",
    "              x='ctr', \n",
    "              hue='exp_group', \n",
    "              palette = ['r', 'b'],\n",
    "              alpha=0.5,\n",
    "              kde=False)"
   ]
  },
  {
   "cell_type": "markdown",
   "id": "902455b7-1285-4ead-9de0-0eb4e1bb600d",
   "metadata": {},
   "source": [
    "На графике мы видим, что данные распределились примерно одинаково."
   ]
  },
  {
   "cell_type": "markdown",
   "id": "258b7f57-064a-40b2-aee5-86bbc431ef6d",
   "metadata": {},
   "source": [
    "Генерируем 10000 подвыборок без повторения в 500 юзеров из 2 и 3 экспериментальной группы. \n",
    "Попарно проводим сравнение этих подвыборок t-testом."
   ]
  },
  {
   "cell_type": "code",
   "execution_count": 6,
   "id": "8533176f-6571-45f0-9563-8d3961628acd",
   "metadata": {},
   "outputs": [],
   "source": [
    "group_2 = aa_data[aa_data.exp_group == 2]\n",
    "group_3 = aa_data[aa_data.exp_group == 3]\n",
    "\n",
    "p_values = []\n",
    "for _ in range(10000):\n",
    "    gp2 = group_2.ctr.sample(500, replace=False)\n",
    "    gp3 = group_3.ctr.sample(500, replace=False)\n",
    "    p_value = stats.ttest_ind(gp2, gp3, equal_var=False)[1]\n",
    "    p_values.append(p_value)\n",
    "p_values = pd.Series(p_values)"
   ]
  },
  {
   "cell_type": "markdown",
   "id": "506936c0-9715-4c8c-9765-92d7f2d97854",
   "metadata": {},
   "source": [
    "Построим гистограмму распределения получившихся 10000 p-values:"
   ]
  },
  {
   "cell_type": "code",
   "execution_count": 7,
   "id": "e09e65de-14d4-4947-93e9-419989ea51ff",
   "metadata": {},
   "outputs": [
    {
     "data": {
      "text/plain": [
       "<AxesSubplot:ylabel='Count'>"
      ]
     },
     "execution_count": 7,
     "metadata": {},
     "output_type": "execute_result"
    },
    {
     "data": {
      "image/png": "[encoded data removed]",
      "text/plain": [
       "<Figure size 792x504 with 1 Axes>"
      ]
     },
     "metadata": {},
     "output_type": "display_data"
    }
   ],
   "source": [
    "sns.histplot(p_values)"
   ]
  },
  {
   "cell_type": "markdown",
   "id": "50cc8928-3f65-47d7-a6b0-9a568361302d",
   "metadata": {},
   "source": [
    "Найдём p_values:"
   ]
  },
  {
   "cell_type": "code",
   "execution_count": 8,
   "id": "d6dad8d3-0399-4a1d-9ffa-0ba3597f4a21",
   "metadata": {},
   "outputs": [
    {
     "name": "stdout",
     "output_type": "stream",
     "text": [
      "p_values  = 4.57%\n"
     ]
    }
   ],
   "source": [
    "false_positive_percent = p_values[p_values <= 0.05].count() / p_values.count()\n",
    "\n",
    "print('p_values  = {}%'.format(round(false_positive_percent * 100, 2)))"
   ]
  },
  {
   "cell_type": "markdown",
   "id": "d160c935-8ac1-4b6a-9a35-4b63f1ef969e",
   "metadata": {},
   "source": [
    "## Вывод\n",
    "P-values оказалось менее 5%, что свидетельствует о том, что наша система сплитования работает корректно и АА-тест пройден успешно."
   ]
  },
  {
   "cell_type": "code",
   "execution_count": null,
   "id": "9a37b00a-d8fb-46b7-b924-b728a0fc7f6f",
   "metadata": {},
   "outputs": [],
   "source": []
  },
  {
   "cell_type": "code",
   "execution_count": null,
   "id": "d1c7c32e-c3d8-4263-b07d-a4472905a6ee",
   "metadata": {},
   "outputs": [],
   "source": []
  }
 ],
 "metadata": {
  "kernelspec": {
   "display_name": "Python 3 (ipykernel)",
   "language": "python",
   "name": "python3"
  },
  "language_info": {
   "codemirror_mode": {
    "name": "ipython",
    "version": 3
   },
   "file_extension": ".py",
   "mimetype": "text/x-python",
   "name": "python",
   "nbconvert_exporter": "python",
   "pygments_lexer": "ipython3",
   "version": "3.8.10"
  },
  "toc-autonumbering": true,
  "toc-showtags": true
 },
 "nbformat": 4,
 "nbformat_minor": 5
}
