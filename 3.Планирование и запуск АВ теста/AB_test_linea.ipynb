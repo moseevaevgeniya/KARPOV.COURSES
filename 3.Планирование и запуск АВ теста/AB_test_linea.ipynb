{
 "cells": [
  {
   "cell_type": "markdown",
   "id": "df8b22cb-82f9-4924-b596-768c6e60043b",
   "metadata": {},
   "source": [
    "# Анализ АВ теста по метрике линеаризованных лайков (`𝑙𝑖𝑛𝑒𝑎𝑟𝑖𝑧𝑒𝑑_𝑙𝑖𝑘𝑒𝑠`)"
   ]
  },
  {
   "cell_type": "markdown",
   "id": "dee8b01a-4c11-4830-b9c5-39e9e425a97f",
   "metadata": {},
   "source": [
    "Описание метрики:  \n",
    "- считаем общий CTR в контрольной группе  𝐶𝑇𝑅𝑐𝑜𝑛𝑡𝑟𝑜𝑙=𝑠𝑢𝑚(𝑙𝑖𝑘𝑒𝑠)/𝑠𝑢𝑚(𝑣𝑖𝑒𝑤𝑠)  \n",
    "- посчитаем в обеих группах поюзерную метрику  𝑙𝑖𝑛𝑒𝑎𝑟𝑖𝑧𝑒𝑑_𝑙𝑖𝑘𝑒𝑠=𝑙𝑖𝑘𝑒𝑠−𝐶𝑇𝑅𝑐𝑜𝑛𝑡𝑟𝑜𝑙∗𝑣𝑖𝑒𝑤𝑠\n",
    "- сравним  t-тестом отличия в группах по метрике 𝑙𝑖𝑛𝑒𝑎𝑟𝑖𝑧𝑒𝑑_𝑙𝑖𝑘𝑒𝑠"
   ]
  },
  {
   "cell_type": "markdown",
   "id": "827cbe23-62e5-44bf-bf75-7b9dd606aeb2",
   "metadata": {},
   "source": [
    "**Задача:**  \n",
    "1. Проанализировать тест между группами 0 и 3 по метрике линеаризованных лайков. Видно ли отличие? Стало ли 𝑝−𝑣𝑎𝑙𝑢𝑒 меньше?  \n",
    "2. Проанализировать тест между группами 1 и 2 по метрике линеаризованных лайков. Видно ли отличие? Стало ли 𝑝−𝑣𝑎𝑙𝑢𝑒 меньше?  "
   ]
  },
  {
   "cell_type": "markdown",
   "id": "3c7f1bc4-dd8f-42c7-bef3-4af9eea16db6",
   "metadata": {},
   "source": [
    "## Загрузка данных"
   ]
  },
  {
   "cell_type": "markdown",
   "id": "62b7d920-c158-4282-b081-428a9a8cd2ee",
   "metadata": {},
   "source": [
    "Загружаем необходимые библиотеки:"
   ]
  },
  {
   "cell_type": "code",
   "execution_count": 1,
   "id": "ac934fd5-e9b0-4967-9e66-290ddfab2b1d",
   "metadata": {},
   "outputs": [],
   "source": [
    "import pandas as pd\n",
    "import pandahouse as ph\n",
    "import numpy as np\n",
    "import matplotlib.pyplot as plt\n",
    "import seaborn as sns\n",
    "from scipy import stats\n",
    "\n",
    "%matplotlib inline"
   ]
  },
  {
   "cell_type": "markdown",
   "id": "973ceb0f-dd53-4375-a09f-468202542708",
   "metadata": {},
   "source": [
    "### Анализ АВ теста между группами 0 и 3 по метрике `𝑙𝑖𝑛𝑒𝑎𝑟𝑖𝑧𝑒𝑑_𝑙𝑖𝑘𝑒𝑠`"
   ]
  },
  {
   "cell_type": "markdown",
   "id": "1bc41d36-f787-4ae0-9e66-9d69b39697a2",
   "metadata": {},
   "source": [
    "Подключаемся к базе данных: "
   ]
  },
  {
   "cell_type": "code",
   "execution_count": 2,
   "id": "1da8e5e7-a808-4510-b543-8cd86ded9bc9",
   "metadata": {},
   "outputs": [],
   "source": [
    "connection = {'host': 'https://clickhouse.lab.karpov.courses',\n",
    "                      'database':'simulator_20221220',\n",
    "                      'user':'student', \n",
    "                      'password':'dpo_python_2020'\n",
    "                     }"
   ]
  },
  {
   "cell_type": "markdown",
   "id": "10bd155c-28d1-41dc-a9bf-27beb64d864a",
   "metadata": {},
   "source": [
    "Отбираем данные с '2022-12-02' по '2022-12-08' для 0 и 3 экспериментальной группы:"
   ]
  },
  {
   "cell_type": "code",
   "execution_count": 3,
   "id": "7e37efe5-0898-42d9-8b80-6a324b23f368",
   "metadata": {},
   "outputs": [
    {
     "data": {
      "text/html": [
       "<div>\n",
       "<style scoped>\n",
       "    .dataframe tbody tr th:only-of-type {\n",
       "        vertical-align: middle;\n",
       "    }\n",
       "\n",
       "    .dataframe tbody tr th {\n",
       "        vertical-align: top;\n",
       "    }\n",
       "\n",
       "    .dataframe thead th {\n",
       "        text-align: right;\n",
       "    }\n",
       "</style>\n",
       "<table border=\"1\" class=\"dataframe\">\n",
       "  <thead>\n",
       "    <tr style=\"text-align: right;\">\n",
       "      <th></th>\n",
       "      <th>exp_group</th>\n",
       "      <th>user_id</th>\n",
       "      <th>likes</th>\n",
       "      <th>views</th>\n",
       "      <th>ctr</th>\n",
       "    </tr>\n",
       "  </thead>\n",
       "  <tbody>\n",
       "    <tr>\n",
       "      <th>0</th>\n",
       "      <td>3</td>\n",
       "      <td>115383</td>\n",
       "      <td>9</td>\n",
       "      <td>30</td>\n",
       "      <td>0.300000</td>\n",
       "    </tr>\n",
       "    <tr>\n",
       "      <th>1</th>\n",
       "      <td>3</td>\n",
       "      <td>123580</td>\n",
       "      <td>13</td>\n",
       "      <td>48</td>\n",
       "      <td>0.270833</td>\n",
       "    </tr>\n",
       "    <tr>\n",
       "      <th>2</th>\n",
       "      <td>0</td>\n",
       "      <td>4944</td>\n",
       "      <td>8</td>\n",
       "      <td>41</td>\n",
       "      <td>0.195122</td>\n",
       "    </tr>\n",
       "    <tr>\n",
       "      <th>3</th>\n",
       "      <td>0</td>\n",
       "      <td>4504</td>\n",
       "      <td>5</td>\n",
       "      <td>15</td>\n",
       "      <td>0.333333</td>\n",
       "    </tr>\n",
       "    <tr>\n",
       "      <th>4</th>\n",
       "      <td>0</td>\n",
       "      <td>121508</td>\n",
       "      <td>18</td>\n",
       "      <td>88</td>\n",
       "      <td>0.204545</td>\n",
       "    </tr>\n",
       "  </tbody>\n",
       "</table>\n",
       "</div>"
      ],
      "text/plain": [
       "   exp_group  user_id  likes  views       ctr\n",
       "0          3   115383      9     30  0.300000\n",
       "1          3   123580     13     48  0.270833\n",
       "2          0     4944      8     41  0.195122\n",
       "3          0     4504      5     15  0.333333\n",
       "4          0   121508     18     88  0.204545"
      ]
     },
     "execution_count": 3,
     "metadata": {},
     "output_type": "execute_result"
    }
   ],
   "source": [
    "q = \"\"\"\n",
    "SELECT exp_group, \n",
    "    user_id,\n",
    "    sum(action = 'like') as likes,\n",
    "    sum(action = 'view') as views,\n",
    "    likes/views as ctr\n",
    "FROM {db}.feed_actions \n",
    "WHERE toDate(time) between '2022-12-02' and '2022-12-08'\n",
    "    and exp_group in (0,3)\n",
    "GROUP BY exp_group, user_id\n",
    "\"\"\"\n",
    "\n",
    "df1 = ph.read_clickhouse(q, connection=connection)\n",
    "\n",
    "df1.head()"
   ]
  },
  {
   "cell_type": "markdown",
   "id": "7d8f08ad-fd5d-4e2c-a02a-5261d6f97fc3",
   "metadata": {},
   "source": [
    "Посмотрим, как выглядят данные на графике гистограмме:"
   ]
  },
  {
   "cell_type": "code",
   "execution_count": 4,
   "id": "8c2a9362-fffe-459d-bc8a-acb293543dc0",
   "metadata": {},
   "outputs": [
    {
     "data": {
      "image/png": "[encoded data removed]",
      "text/plain": [
       "<Figure size 720x576 with 1 Axes>"
      ]
     },
     "metadata": {
      "needs_background": "light"
     },
     "output_type": "display_data"
    }
   ],
   "source": [
    "plt.figure(figsize=(10, 8))\n",
    "groups = sns.histplot(data = df1, \n",
    "              x='ctr', \n",
    "              hue='exp_group', \n",
    "              palette = ['r', 'b'],\n",
    "              alpha=0.5,\n",
    "              kde=False)"
   ]
  },
  {
   "cell_type": "markdown",
   "id": "8e29aeaa-424a-4031-9f5a-eafdfbc7b2e8",
   "metadata": {},
   "source": [
    "На графике мы видим, что данные двух групп распределились равномерно и примерно на \"на глаз\" одинаковые."
   ]
  },
  {
   "cell_type": "markdown",
   "id": "4be23464-3f3c-4c7a-af47-13ce9cb93288",
   "metadata": {},
   "source": [
    "Теперь оценим результаты АВ теста для групп 0 и 3 обычным t-тестом:"
   ]
  },
  {
   "cell_type": "code",
   "execution_count": 5,
   "id": "cf29be9c-94e7-4fa5-84e7-6a6aede7965d",
   "metadata": {},
   "outputs": [
    {
     "data": {
      "text/plain": [
       "Ttest_indResult(statistic=-13.896870721904069, pvalue=1.055849414662529e-43)"
      ]
     },
     "execution_count": 5,
     "metadata": {},
     "output_type": "execute_result"
    }
   ],
   "source": [
    "stats.ttest_ind(df1[df1.exp_group == 0].ctr,\n",
    "                df1[df1.exp_group == 3].ctr,\n",
    "                equal_var=False)"
   ]
  },
  {
   "cell_type": "markdown",
   "id": "cdadae03-54ea-4ad0-adfe-03df2fe9f692",
   "metadata": {},
   "source": [
    "Результат теста показал, что существенных различий между группами нет."
   ]
  },
  {
   "cell_type": "markdown",
   "id": "70721bc7-47d7-47da-ae45-0cefcb31bd4d",
   "metadata": {},
   "source": [
    "Сравним t-тестом отличия в группах по метрике 𝑙𝑖𝑛𝑒𝑎𝑟𝑖𝑧𝑒𝑑_𝑙𝑖𝑘𝑒𝑠\n",
    " и посчитаем общий CTR в контрольной группе:"
   ]
  },
  {
   "cell_type": "code",
   "execution_count": 6,
   "id": "b084002d-5139-4cf5-9253-ab92ff4afc77",
   "metadata": {},
   "outputs": [
    {
     "data": {
      "text/plain": [
       "0.20823612262916305"
      ]
     },
     "execution_count": 6,
     "metadata": {},
     "output_type": "execute_result"
    }
   ],
   "source": [
    "CTRcontrol = df1[df1.exp_group == 0].likes.sum() / df1[df1.exp_group == 0].views.sum()\n",
    "CTRcontrol"
   ]
  },
  {
   "cell_type": "code",
   "execution_count": 7,
   "id": "cee66055-d07c-42b7-846a-a1cb5e86141c",
   "metadata": {},
   "outputs": [],
   "source": [
    "df1['lin_likes'] = df1.likes - CTRcontrol * df1.views"
   ]
  },
  {
   "cell_type": "markdown",
   "id": "04a416a9-9429-4fd9-82f7-5ffe1f437670",
   "metadata": {},
   "source": [
    "Визуализируем результаты:"
   ]
  },
  {
   "cell_type": "code",
   "execution_count": 8,
   "id": "6bdb8bd5-1d58-485a-ab5b-d800471f5714",
   "metadata": {},
   "outputs": [
    {
     "data": {
      "image/png": "[encoded data removed]",
      "text/plain": [
       "<Figure size 720x576 with 1 Axes>"
      ]
     },
     "metadata": {
      "needs_background": "light"
     },
     "output_type": "display_data"
    }
   ],
   "source": [
    "plt.figure(figsize=(10, 8))\n",
    "groups = sns.histplot(data = df1, \n",
    "              x='lin_likes', \n",
    "              hue='exp_group', \n",
    "              palette = ['r', 'b'],\n",
    "              alpha=0.5,\n",
    "              kde=False)"
   ]
  },
  {
   "cell_type": "code",
   "execution_count": 9,
   "id": "dbaa9833-e737-4760-8b61-35d291ef9848",
   "metadata": {},
   "outputs": [
    {
     "data": {
      "text/plain": [
       "Ttest_indResult(statistic=-15.21499546090383, pvalue=5.4914249479687664e-52)"
      ]
     },
     "execution_count": 9,
     "metadata": {},
     "output_type": "execute_result"
    }
   ],
   "source": [
    "stats.ttest_ind(df1[df1.exp_group == 0].lin_likes,\n",
    "                df1[df1.exp_group == 3].lin_likes,\n",
    "                equal_var=False)"
   ]
  },
  {
   "cell_type": "markdown",
   "id": "68d92b5c-fe88-4f6f-9aae-d4c01d59e9d6",
   "metadata": {},
   "source": [
    "Отличия видны, p-value стало значительно меньше. При это распределение, кажется, стало более нормальным в обеих группах."
   ]
  },
  {
   "cell_type": "markdown",
   "id": "80ddde0b-f94c-44f3-be07-eef681fdebb6",
   "metadata": {},
   "source": [
    "### Анализ АВ теста между группами 1 и 2 по метрике 𝑙𝑖𝑛𝑒𝑎𝑟𝑖𝑧𝑒𝑑_𝑙𝑖𝑘𝑒𝑠"
   ]
  },
  {
   "cell_type": "markdown",
   "id": "e37c50ec-2b23-4777-ab34-f0d20189e613",
   "metadata": {},
   "source": [
    "Отбирём данные с '2022-12-02' по '2022-12-08' для 1 и 2 экспериментальной группы:"
   ]
  },
  {
   "cell_type": "code",
   "execution_count": 10,
   "id": "ce8a3f26-e8fe-4b83-a96a-1c95b771d719",
   "metadata": {},
   "outputs": [
    {
     "data": {
      "text/html": [
       "<div>\n",
       "<style scoped>\n",
       "    .dataframe tbody tr th:only-of-type {\n",
       "        vertical-align: middle;\n",
       "    }\n",
       "\n",
       "    .dataframe tbody tr th {\n",
       "        vertical-align: top;\n",
       "    }\n",
       "\n",
       "    .dataframe thead th {\n",
       "        text-align: right;\n",
       "    }\n",
       "</style>\n",
       "<table border=\"1\" class=\"dataframe\">\n",
       "  <thead>\n",
       "    <tr style=\"text-align: right;\">\n",
       "      <th></th>\n",
       "      <th>exp_group</th>\n",
       "      <th>user_id</th>\n",
       "      <th>likes</th>\n",
       "      <th>views</th>\n",
       "      <th>ctr</th>\n",
       "    </tr>\n",
       "  </thead>\n",
       "  <tbody>\n",
       "    <tr>\n",
       "      <th>0</th>\n",
       "      <td>1</td>\n",
       "      <td>109963</td>\n",
       "      <td>3</td>\n",
       "      <td>15</td>\n",
       "      <td>0.200000</td>\n",
       "    </tr>\n",
       "    <tr>\n",
       "      <th>1</th>\n",
       "      <td>1</td>\n",
       "      <td>26117</td>\n",
       "      <td>32</td>\n",
       "      <td>141</td>\n",
       "      <td>0.226950</td>\n",
       "    </tr>\n",
       "    <tr>\n",
       "      <th>2</th>\n",
       "      <td>1</td>\n",
       "      <td>138232</td>\n",
       "      <td>18</td>\n",
       "      <td>73</td>\n",
       "      <td>0.246575</td>\n",
       "    </tr>\n",
       "    <tr>\n",
       "      <th>3</th>\n",
       "      <td>1</td>\n",
       "      <td>26295</td>\n",
       "      <td>33</td>\n",
       "      <td>122</td>\n",
       "      <td>0.270492</td>\n",
       "    </tr>\n",
       "    <tr>\n",
       "      <th>4</th>\n",
       "      <td>1</td>\n",
       "      <td>18392</td>\n",
       "      <td>7</td>\n",
       "      <td>32</td>\n",
       "      <td>0.218750</td>\n",
       "    </tr>\n",
       "  </tbody>\n",
       "</table>\n",
       "</div>"
      ],
      "text/plain": [
       "   exp_group  user_id  likes  views       ctr\n",
       "0          1   109963      3     15  0.200000\n",
       "1          1    26117     32    141  0.226950\n",
       "2          1   138232     18     73  0.246575\n",
       "3          1    26295     33    122  0.270492\n",
       "4          1    18392      7     32  0.218750"
      ]
     },
     "execution_count": 10,
     "metadata": {},
     "output_type": "execute_result"
    }
   ],
   "source": [
    "q = \"\"\"\n",
    "SELECT exp_group, \n",
    "    user_id,\n",
    "    sum(action = 'like') as likes,\n",
    "    sum(action = 'view') as views,\n",
    "    likes/views as ctr\n",
    "FROM {db}.feed_actions \n",
    "WHERE toDate(time) between '2022-12-02' and '2022-12-08'\n",
    "    and exp_group in (1,2)\n",
    "GROUP BY exp_group, user_id\n",
    "\"\"\"\n",
    "\n",
    "df2 = ph.read_clickhouse(q, connection=connection)\n",
    "\n",
    "df2.head()"
   ]
  },
  {
   "cell_type": "markdown",
   "id": "93c1fcb0-5988-4b25-b3dc-c61c7dbc0e4a",
   "metadata": {},
   "source": [
    "Визуализируем данные:"
   ]
  },
  {
   "cell_type": "code",
   "execution_count": 11,
   "id": "c03a745b-d6de-4cbf-9bfd-8d2d839e3b47",
   "metadata": {},
   "outputs": [
    {
     "data": {
      "image/png": "[encoded data removed]",
      "text/plain": [
       "<Figure size 720x576 with 1 Axes>"
      ]
     },
     "metadata": {
      "needs_background": "light"
     },
     "output_type": "display_data"
    }
   ],
   "source": [
    "plt.figure(figsize=(10, 8))\n",
    "groups = sns.histplot(data = df2, \n",
    "              x='ctr', \n",
    "              hue='exp_group', \n",
    "              palette = ['r', 'b'],\n",
    "              alpha=0.5,\n",
    "              kde=False)"
   ]
  },
  {
   "cell_type": "markdown",
   "id": "750df890-cd8e-48ff-a27f-91366a129303",
   "metadata": {},
   "source": [
    "Сравним группы  t-тестом:"
   ]
  },
  {
   "cell_type": "code",
   "execution_count": 12,
   "id": "6a6a92cf-0753-41be-b072-059ccad208e2",
   "metadata": {},
   "outputs": [
    {
     "data": {
      "text/plain": [
       "Ttest_indResult(statistic=0.7094392041270486, pvalue=0.4780623130874935)"
      ]
     },
     "execution_count": 12,
     "metadata": {},
     "output_type": "execute_result"
    }
   ],
   "source": [
    "stats.ttest_ind(df2[df2.exp_group == 1].ctr,\n",
    "                df2[df2.exp_group == 2].ctr,\n",
    "                equal_var=False)"
   ]
  },
  {
   "cell_type": "markdown",
   "id": "57acad3f-bb89-4dea-9d7e-504b72f4b110",
   "metadata": {},
   "source": [
    "Сравним t-тестом отличия в группах по метрике 𝑙𝑖𝑛𝑒𝑎𝑟𝑖𝑧𝑒𝑑_𝑙𝑖𝑘𝑒𝑠 и посчитаем общий CTR в контрольной группе:"
   ]
  },
  {
   "cell_type": "code",
   "execution_count": 13,
   "id": "0af12908-f86e-40c2-856a-500be8b28b33",
   "metadata": {},
   "outputs": [
    {
     "data": {
      "text/plain": [
       "0.20802680490126244"
      ]
     },
     "execution_count": 13,
     "metadata": {},
     "output_type": "execute_result"
    }
   ],
   "source": [
    "CTRcontrol2 = df2[df2.exp_group == 1].likes.sum() / df2[df2.exp_group == 1].views.sum()\n",
    "CTRcontrol2"
   ]
  },
  {
   "cell_type": "code",
   "execution_count": 14,
   "id": "4a5de179-93c5-4a56-b120-e4f935e04dda",
   "metadata": {},
   "outputs": [],
   "source": [
    "df2['lin_likes'] = df2.likes - CTRcontrol2 * df2.views"
   ]
  },
  {
   "cell_type": "markdown",
   "id": "11fae283-ebdc-4c03-bec5-c73c69d1499c",
   "metadata": {},
   "source": [
    "Визуализируем данные:"
   ]
  },
  {
   "cell_type": "code",
   "execution_count": 15,
   "id": "dd48b9e6-d194-46ca-981f-1642b10360ae",
   "metadata": {},
   "outputs": [
    {
     "data": {
      "image/png": "[encoded data removed]",
      "text/plain": [
       "<Figure size 720x576 with 1 Axes>"
      ]
     },
     "metadata": {
      "needs_background": "light"
     },
     "output_type": "display_data"
    }
   ],
   "source": [
    "plt.figure(figsize=(10, 8))\n",
    "groups = sns.histplot(data = df2, \n",
    "              x='lin_likes', \n",
    "              hue='exp_group', \n",
    "              palette = ['r', 'b'],\n",
    "              alpha=0.5,\n",
    "              kde=False)"
   ]
  },
  {
   "cell_type": "markdown",
   "id": "10c9bd6d-301d-4f30-987d-7ac560f2709a",
   "metadata": {},
   "source": [
    "Сравним группы t-тестом:"
   ]
  },
  {
   "cell_type": "code",
   "execution_count": 16,
   "id": "0a4de0e4-91fa-475a-8450-506fd04735a0",
   "metadata": {},
   "outputs": [
    {
     "data": {
      "text/plain": [
       "Ttest_indResult(statistic=6.122579994775973, pvalue=9.439432187037712e-10)"
      ]
     },
     "execution_count": 16,
     "metadata": {},
     "output_type": "execute_result"
    }
   ],
   "source": [
    "stats.ttest_ind(df2[df2.exp_group == 1].lin_likes,\n",
    "                df2[df2.exp_group == 2].lin_likes,\n",
    "                equal_var=False)"
   ]
  },
  {
   "cell_type": "markdown",
   "id": "631eb1c0-9320-4bc5-8094-fcdbf7764e02",
   "metadata": {},
   "source": [
    "P-value стало значительно ниже и теперь говорит о высокой вероятности стат. значимых отличий между двумя группами, графически отличия также видны более отчётливо."
   ]
  },
  {
   "cell_type": "markdown",
   "id": "893d0714-eba9-4cdd-9adc-325a1692ffbe",
   "metadata": {},
   "source": [
    "## Общий вывод"
   ]
  },
  {
   "cell_type": "markdown",
   "id": "ea92d961-f602-46c7-a3a3-eb9f15f4ddcb",
   "metadata": {},
   "source": [
    "1) Для экспериментальных групп 0 и 3 t-тест показал статистически значимые различия с очень малыми p-value как на линеаризованных лайках, так и на CTR'ах. Но критерий стат. значимости после t-теста на линеаризованных лайках стал на 9 порядков меньше, чем после теста на CTR'ах, что свидетельствует о бОльшей чувствительности метрики линеаризованных лайков по сравнению с чистыми CTR'ами.  \n",
    "2) Для экспериментальных групп 1 и 2 t-тест НЕ показал статистически значимых различий на метрике CTR, но тест на линеаризованных лайках дал p-value << 0.05, следовательно показал статистически значимые различия между группами. Такие различия в результатах между тестами еще больше убеждают меня в том, что метрика линеаризованных лайков гораздо чувствительнее чистых CTR'ов."
   ]
  },
  {
   "cell_type": "code",
   "execution_count": null,
   "id": "cb1e1f32-d8e7-4a78-90fc-3ae5ee9978ef",
   "metadata": {},
   "outputs": [],
   "source": []
  },
  {
   "cell_type": "code",
   "execution_count": null,
   "id": "00b89dfd-5202-4451-b487-3dd13d98f876",
   "metadata": {},
   "outputs": [],
   "source": []
  },
  {
   "cell_type": "code",
   "execution_count": null,
   "id": "c6952dc9-a61f-41d2-be61-64e558afd474",
   "metadata": {},
   "outputs": [],
   "source": []
  }
 ],
 "metadata": {
  "kernelspec": {
   "display_name": "Python 3 (ipykernel)",
   "language": "python",
   "name": "python3"
  },
  "language_info": {
   "codemirror_mode": {
    "name": "ipython",
    "version": 3
   },
   "file_extension": ".py",
   "mimetype": "text/x-python",
   "name": "python",
   "nbconvert_exporter": "python",
   "pygments_lexer": "ipython3",
   "version": "3.8.10"
  }
 },
 "nbformat": 4,
 "nbformat_minor": 5
}
